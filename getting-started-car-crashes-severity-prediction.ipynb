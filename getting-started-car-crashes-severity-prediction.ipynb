{
 "cells": [
  {
   "cell_type": "markdown",
   "metadata": {
    "papermill": {
     "duration": 0.036749,
     "end_time": "2021-07-27T15:29:47.415420",
     "exception": false,
     "start_time": "2021-07-27T15:29:47.378671",
     "status": "completed"
    },
    "tags": []
   },
   "source": [
    "## You're here! \n",
    "Welcome to your first competition in the [ITI's AI Pro training program](https://ai.iti.gov.eg/epita/ai-engineer/)! We hope you enjoy and learn as much as we did prepairing this competition.\n",
    "\n",
    "\n",
    "## Introduction\n",
    "\n",
    "In the competition, it's required to predict the `Severity` of a car crash given info about the crash, e.g., location.\n",
    "\n",
    "This is the getting started notebook. Things are kept simple so that it's easier to understand the steps and modify it.\n",
    "\n",
    "Feel free to `Fork` this notebook and share it with your modifications **OR** use it to create your submissions.\n",
    "\n",
    "### Prerequisites\n",
    "You should know how to use python and a little bit of Machine Learning. You can apply the techniques you learned in the training program and submit the new solutions! \n",
    "\n",
    "### Checklist\n",
    "You can participate in this competition the way you perefer. However, I recommend following these steps if this is your first time joining a competition on Kaggle.\n",
    "\n",
    "* Fork this notebook and run the cells in order.\n",
    "* Submit this solution.\n",
    "* Make changes to the data processing step as you see fit.\n",
    "* Submit the new solutions.\n",
    "\n",
    "*You can submit up to 5 submissions per day. You can select only one of the submission you make to be considered in the final ranking.*\n",
    "\n",
    "\n",
    "Don't hesitate to leave a comment or contact me if you have any question!"
   ]
  },
  {
   "cell_type": "markdown",
   "metadata": {
    "papermill": {
     "duration": 0.033984,
     "end_time": "2021-07-27T15:29:47.484723",
     "exception": false,
     "start_time": "2021-07-27T15:29:47.450739",
     "status": "completed"
    },
    "tags": []
   },
   "source": [
    "## Import the libraries\n",
    "\n",
    "We'll use `pandas` to load and manipulate the data. Other libraries will be imported in the relevant sections."
   ]
  },
  {
   "cell_type": "code",
   "execution_count": 1,
   "metadata": {
    "_cell_guid": "b1076dfc-b9ad-4769-8c92-a6c4dae69d19",
    "_uuid": "8f2839f25d086af736a60e9eeb907d3b93b6e0e5",
    "execution": {
     "iopub.execute_input": "2021-07-27T15:29:47.564164Z",
     "iopub.status.busy": "2021-07-27T15:29:47.563425Z",
     "iopub.status.idle": "2021-07-27T15:29:48.789168Z",
     "shell.execute_reply": "2021-07-27T15:29:48.789823Z",
     "shell.execute_reply.started": "2021-07-27T15:28:20.289936Z"
    },
    "papermill": {
     "duration": 1.270866,
     "end_time": "2021-07-27T15:29:48.790245",
     "exception": false,
     "start_time": "2021-07-27T15:29:47.519379",
     "status": "completed"
    },
    "tags": []
   },
   "outputs": [],
   "source": [
    "import pandas as pd\n",
    "import os\n",
    "import seaborn as sb\n",
    "import xml.etree.ElementTree as Xet\n",
    "import matplotlib.pyplot as plt\n",
    "%matplotlib inline"
   ]
  },
  {
   "cell_type": "markdown",
   "metadata": {
    "papermill": {
     "duration": 0.036199,
     "end_time": "2021-07-27T15:29:48.864418",
     "exception": false,
     "start_time": "2021-07-27T15:29:48.828219",
     "status": "completed"
    },
    "tags": []
   },
   "source": [
    "## Exploratory Data Analysis\n",
    "In this step, one should load the data and analyze it. However, I'll load the data and do minimal analysis. You are encouraged to do thorough analysis!\n",
    "\n",
    "Let's load the data using `pandas` and have a look at the generated `DataFrame`."
   ]
  },
  {
   "cell_type": "code",
   "execution_count": 2,
   "metadata": {
    "execution": {
     "iopub.execute_input": "2021-07-27T15:29:48.940827Z",
     "iopub.status.busy": "2021-07-27T15:29:48.939903Z",
     "iopub.status.idle": "2021-07-27T15:29:49.028989Z",
     "shell.execute_reply": "2021-07-27T15:29:49.028275Z",
     "shell.execute_reply.started": "2021-07-27T15:28:20.326551Z"
    },
    "papermill": {
     "duration": 0.128959,
     "end_time": "2021-07-27T15:29:49.029183",
     "exception": false,
     "start_time": "2021-07-27T15:29:48.900224",
     "status": "completed"
    },
    "tags": []
   },
   "outputs": [
    {
     "ename": "NameError",
     "evalue": "name 'pd' is not defined",
     "output_type": "error",
     "traceback": [
      "\u001b[1;31m---------------------------------------------------------------------------\u001b[0m",
      "\u001b[1;31mNameError\u001b[0m                                 Traceback (most recent call last)",
      "\u001b[1;32m<ipython-input-2-dcb7f27f50f6>\u001b[0m in \u001b[0;36m<module>\u001b[1;34m\u001b[0m\n\u001b[0;32m      1\u001b[0m \u001b[0mdataset_path\u001b[0m \u001b[1;33m=\u001b[0m \u001b[1;34m'/kaggle/input/car-crashes-severity-prediction/'\u001b[0m\u001b[1;33m\u001b[0m\u001b[1;33m\u001b[0m\u001b[0m\n\u001b[0;32m      2\u001b[0m \u001b[1;33m\u001b[0m\u001b[0m\n\u001b[1;32m----> 3\u001b[1;33m \u001b[0mdf\u001b[0m \u001b[1;33m=\u001b[0m \u001b[0mpd\u001b[0m\u001b[1;33m.\u001b[0m\u001b[0mread_csv\u001b[0m\u001b[1;33m(\u001b[0m\u001b[0mos\u001b[0m\u001b[1;33m.\u001b[0m\u001b[0mpath\u001b[0m\u001b[1;33m.\u001b[0m\u001b[0mjoin\u001b[0m\u001b[1;33m(\u001b[0m\u001b[0mdataset_path\u001b[0m\u001b[1;33m,\u001b[0m \u001b[1;34m'train.csv'\u001b[0m\u001b[1;33m)\u001b[0m\u001b[1;33m)\u001b[0m\u001b[1;33m\u001b[0m\u001b[1;33m\u001b[0m\u001b[0m\n\u001b[0m\u001b[0;32m      4\u001b[0m \u001b[1;33m\u001b[0m\u001b[0m\n\u001b[0;32m      5\u001b[0m \u001b[0mprint\u001b[0m\u001b[1;33m(\u001b[0m\u001b[1;34m\"The shape of the dataset is {}.\\n\\n\"\u001b[0m\u001b[1;33m.\u001b[0m\u001b[0mformat\u001b[0m\u001b[1;33m(\u001b[0m\u001b[0mdf\u001b[0m\u001b[1;33m.\u001b[0m\u001b[0mshape\u001b[0m\u001b[1;33m)\u001b[0m\u001b[1;33m)\u001b[0m\u001b[1;33m\u001b[0m\u001b[1;33m\u001b[0m\u001b[0m\n",
      "\u001b[1;31mNameError\u001b[0m: name 'pd' is not defined"
     ]
    }
   ],
   "source": [
    "dataset_path = '/kaggle/input/car-crashes-severity-prediction/'\n",
    "\n",
    "df = pd.read_csv(os.path.join(dataset_path, 'train.csv'))\n",
    "\n",
    "print(\"The shape of the dataset is {}.\\n\\n\".format(df.shape))\n",
    "\n",
    "df.head()"
   ]
  },
  {
   "cell_type": "markdown",
   "metadata": {
    "papermill": {
     "duration": 0.040483,
     "end_time": "2021-07-27T15:29:49.108253",
     "exception": false,
     "start_time": "2021-07-27T15:29:49.067770",
     "status": "completed"
    },
    "tags": []
   },
   "source": [
    "We've got 6407 examples in the dataset with 14 featues, 1 ID, and the `Severity` of the crash.\n",
    "\n",
    "By looking at the features and a sample from the data, the features look of numerical and catogerical types. What about some descriptive statistics?"
   ]
  },
  {
   "cell_type": "code",
   "execution_count": 3,
   "metadata": {
    "execution": {
     "iopub.execute_input": "2021-07-27T15:29:49.194366Z",
     "iopub.status.busy": "2021-07-27T15:29:49.193579Z",
     "iopub.status.idle": "2021-07-27T15:29:49.227587Z",
     "shell.execute_reply": "2021-07-27T15:29:49.226419Z",
     "shell.execute_reply.started": "2021-07-27T15:28:20.381898Z"
    },
    "papermill": {
     "duration": 0.081932,
     "end_time": "2021-07-27T15:29:49.227766",
     "exception": false,
     "start_time": "2021-07-27T15:29:49.145834",
     "status": "completed"
    },
    "tags": []
   },
   "outputs": [
    {
     "data": {
      "text/html": [
       "<div>\n",
       "<style scoped>\n",
       "    .dataframe tbody tr th:only-of-type {\n",
       "        vertical-align: middle;\n",
       "    }\n",
       "\n",
       "    .dataframe tbody tr th {\n",
       "        vertical-align: top;\n",
       "    }\n",
       "\n",
       "    .dataframe thead th {\n",
       "        text-align: right;\n",
       "    }\n",
       "</style>\n",
       "<table border=\"1\" class=\"dataframe\">\n",
       "  <thead>\n",
       "    <tr style=\"text-align: right;\">\n",
       "      <th></th>\n",
       "      <th>Lat</th>\n",
       "      <th>Lng</th>\n",
       "      <th>Distance(mi)</th>\n",
       "      <th>Severity</th>\n",
       "    </tr>\n",
       "  </thead>\n",
       "  <tbody>\n",
       "    <tr>\n",
       "      <th>count</th>\n",
       "      <td>6407.000000</td>\n",
       "      <td>6407.000000</td>\n",
       "      <td>6407.000000</td>\n",
       "      <td>6407.000000</td>\n",
       "    </tr>\n",
       "    <tr>\n",
       "      <th>mean</th>\n",
       "      <td>37.765653</td>\n",
       "      <td>-122.405990</td>\n",
       "      <td>0.135189</td>\n",
       "      <td>2.293429</td>\n",
       "    </tr>\n",
       "    <tr>\n",
       "      <th>std</th>\n",
       "      <td>0.032555</td>\n",
       "      <td>0.028275</td>\n",
       "      <td>0.396360</td>\n",
       "      <td>0.521225</td>\n",
       "    </tr>\n",
       "    <tr>\n",
       "      <th>min</th>\n",
       "      <td>37.609619</td>\n",
       "      <td>-122.510440</td>\n",
       "      <td>0.000000</td>\n",
       "      <td>1.000000</td>\n",
       "    </tr>\n",
       "    <tr>\n",
       "      <th>25%</th>\n",
       "      <td>37.737096</td>\n",
       "      <td>-122.412210</td>\n",
       "      <td>0.000000</td>\n",
       "      <td>2.000000</td>\n",
       "    </tr>\n",
       "    <tr>\n",
       "      <th>50%</th>\n",
       "      <td>37.768238</td>\n",
       "      <td>-122.404835</td>\n",
       "      <td>0.000000</td>\n",
       "      <td>2.000000</td>\n",
       "    </tr>\n",
       "    <tr>\n",
       "      <th>75%</th>\n",
       "      <td>37.787813</td>\n",
       "      <td>-122.392477</td>\n",
       "      <td>0.041000</td>\n",
       "      <td>3.000000</td>\n",
       "    </tr>\n",
       "    <tr>\n",
       "      <th>max</th>\n",
       "      <td>37.825626</td>\n",
       "      <td>-122.349734</td>\n",
       "      <td>6.820000</td>\n",
       "      <td>4.000000</td>\n",
       "    </tr>\n",
       "  </tbody>\n",
       "</table>\n",
       "</div>"
      ],
      "text/plain": [
       "               Lat          Lng  Distance(mi)     Severity\n",
       "count  6407.000000  6407.000000   6407.000000  6407.000000\n",
       "mean     37.765653  -122.405990      0.135189     2.293429\n",
       "std       0.032555     0.028275      0.396360     0.521225\n",
       "min      37.609619  -122.510440      0.000000     1.000000\n",
       "25%      37.737096  -122.412210      0.000000     2.000000\n",
       "50%      37.768238  -122.404835      0.000000     2.000000\n",
       "75%      37.787813  -122.392477      0.041000     3.000000\n",
       "max      37.825626  -122.349734      6.820000     4.000000"
      ]
     },
     "execution_count": 3,
     "metadata": {},
     "output_type": "execute_result"
    }
   ],
   "source": [
    "df.drop(columns='ID').describe()"
   ]
  },
  {
   "cell_type": "code",
   "execution_count": 4,
   "metadata": {
    "execution": {
     "iopub.execute_input": "2021-07-27T15:29:49.315539Z",
     "iopub.status.busy": "2021-07-27T15:29:49.308520Z",
     "iopub.status.idle": "2021-07-27T15:29:49.333345Z",
     "shell.execute_reply": "2021-07-27T15:29:49.332183Z",
     "shell.execute_reply.started": "2021-07-27T15:28:20.423386Z"
    },
    "papermill": {
     "duration": 0.068155,
     "end_time": "2021-07-27T15:29:49.333607",
     "exception": false,
     "start_time": "2021-07-27T15:29:49.265452",
     "status": "completed"
    },
    "tags": []
   },
   "outputs": [
    {
     "name": "stdout",
     "output_type": "stream",
     "text": [
      " Number of null records in each column ID              0\n",
      "Lat             0\n",
      "Lng             0\n",
      "Bump            0\n",
      "Distance(mi)    0\n",
      "Crossing        0\n",
      "Give_Way        0\n",
      "Junction        0\n",
      "No_Exit         0\n",
      "Railway         0\n",
      "Roundabout      0\n",
      "Stop            0\n",
      "Amenity         0\n",
      "Side            0\n",
      "Severity        0\n",
      "timestamp       0\n",
      "dtype: int64\n",
      "Number of Duplicated records 0\n"
     ]
    }
   ],
   "source": [
    "print(\" Number of null records in each column\" , df.isnull().sum())  # check weather there exist bnulls or not\n",
    "print(\"Number of Duplicated records\",df.duplicated().sum()) # check the existance of duplicated rows or not "
   ]
  },
  {
   "cell_type": "code",
   "execution_count": 5,
   "metadata": {
    "execution": {
     "iopub.execute_input": "2021-07-27T15:29:49.436001Z",
     "iopub.status.busy": "2021-07-27T15:29:49.422781Z",
     "iopub.status.idle": "2021-07-27T15:29:49.441572Z",
     "shell.execute_reply": "2021-07-27T15:29:49.440730Z",
     "shell.execute_reply.started": "2021-07-27T15:28:20.447792Z"
    },
    "papermill": {
     "duration": 0.069533,
     "end_time": "2021-07-27T15:29:49.441817",
     "exception": false,
     "start_time": "2021-07-27T15:29:49.372284",
     "status": "completed"
    },
    "tags": []
   },
   "outputs": [
    {
     "name": "stdout",
     "output_type": "stream",
     "text": [
      "<class 'pandas.core.frame.DataFrame'>\n",
      "RangeIndex: 6407 entries, 0 to 6406\n",
      "Data columns (total 16 columns):\n",
      " #   Column        Non-Null Count  Dtype  \n",
      "---  ------        --------------  -----  \n",
      " 0   ID            6407 non-null   int64  \n",
      " 1   Lat           6407 non-null   float64\n",
      " 2   Lng           6407 non-null   float64\n",
      " 3   Bump          6407 non-null   bool   \n",
      " 4   Distance(mi)  6407 non-null   float64\n",
      " 5   Crossing      6407 non-null   bool   \n",
      " 6   Give_Way      6407 non-null   bool   \n",
      " 7   Junction      6407 non-null   bool   \n",
      " 8   No_Exit       6407 non-null   bool   \n",
      " 9   Railway       6407 non-null   bool   \n",
      " 10  Roundabout    6407 non-null   bool   \n",
      " 11  Stop          6407 non-null   bool   \n",
      " 12  Amenity       6407 non-null   bool   \n",
      " 13  Side          6407 non-null   object \n",
      " 14  Severity      6407 non-null   int64  \n",
      " 15  timestamp     6407 non-null   object \n",
      "dtypes: bool(9), float64(3), int64(2), object(2)\n",
      "memory usage: 406.8+ KB\n"
     ]
    }
   ],
   "source": [
    "df.info()"
   ]
  },
  {
   "cell_type": "code",
   "execution_count": 6,
   "metadata": {
    "execution": {
     "iopub.execute_input": "2021-07-27T15:29:49.547604Z",
     "iopub.status.busy": "2021-07-27T15:29:49.533776Z",
     "iopub.status.idle": "2021-07-27T15:29:49.554712Z",
     "shell.execute_reply": "2021-07-27T15:29:49.555826Z",
     "shell.execute_reply.started": "2021-07-27T15:28:20.467901Z"
    },
    "papermill": {
     "duration": 0.075438,
     "end_time": "2021-07-27T15:29:49.556106",
     "exception": false,
     "start_time": "2021-07-27T15:29:49.480668",
     "status": "completed"
    },
    "tags": []
   },
   "outputs": [
    {
     "name": "stdout",
     "output_type": "stream",
     "text": [
      "<class 'pandas.core.frame.DataFrame'>\n",
      "RangeIndex: 6407 entries, 0 to 6406\n",
      "Data columns (total 16 columns):\n",
      " #   Column        Non-Null Count  Dtype              \n",
      "---  ------        --------------  -----              \n",
      " 0   ID            6407 non-null   int64              \n",
      " 1   Lat           6407 non-null   float64            \n",
      " 2   Lng           6407 non-null   float64            \n",
      " 3   Bump          6407 non-null   bool               \n",
      " 4   Distance(mi)  6407 non-null   float64            \n",
      " 5   Crossing      6407 non-null   int64              \n",
      " 6   Give_Way      6407 non-null   bool               \n",
      " 7   Junction      6407 non-null   int64              \n",
      " 8   No_Exit       6407 non-null   bool               \n",
      " 9   Railway       6407 non-null   int64              \n",
      " 10  Roundabout    6407 non-null   int64              \n",
      " 11  Stop          6407 non-null   bool               \n",
      " 12  Amenity       6407 non-null   int64              \n",
      " 13  Side          6407 non-null   object             \n",
      " 14  Severity      6407 non-null   int64              \n",
      " 15  timestamp     6407 non-null   datetime64[ns, UTC]\n",
      "dtypes: bool(4), datetime64[ns, UTC](1), float64(3), int64(7), object(1)\n",
      "memory usage: 625.8+ KB\n",
      "None\n"
     ]
    }
   ],
   "source": [
    "# conversion to timestamp\n",
    "df.timestamp = pd.to_datetime(df.timestamp, utc = True)\n",
    "\n",
    "# comversion to 1 and 0 \n",
    "columns = ['Crossing' , 'Junction' , 'Railway' , 'Roundabout' , 'Amenity']\n",
    "df[columns] = df[columns].astype(int)\n",
    "\n",
    "# checking the conversion\n",
    "print(df.info())\n"
   ]
  },
  {
   "cell_type": "code",
   "execution_count": 7,
   "metadata": {
    "execution": {
     "iopub.execute_input": "2021-07-27T15:29:49.674343Z",
     "iopub.status.busy": "2021-07-27T15:29:49.657923Z",
     "iopub.status.idle": "2021-07-27T15:29:49.684176Z",
     "shell.execute_reply": "2021-07-27T15:29:49.683544Z",
     "shell.execute_reply.started": "2021-07-27T15:28:20.492734Z"
    },
    "papermill": {
     "duration": 0.086907,
     "end_time": "2021-07-27T15:29:49.684340",
     "exception": false,
     "start_time": "2021-07-27T15:29:49.597433",
     "status": "completed"
    },
    "tags": []
   },
   "outputs": [
    {
     "data": {
      "text/html": [
       "<div>\n",
       "<style scoped>\n",
       "    .dataframe tbody tr th:only-of-type {\n",
       "        vertical-align: middle;\n",
       "    }\n",
       "\n",
       "    .dataframe tbody tr th {\n",
       "        vertical-align: top;\n",
       "    }\n",
       "\n",
       "    .dataframe thead th {\n",
       "        text-align: right;\n",
       "    }\n",
       "</style>\n",
       "<table border=\"1\" class=\"dataframe\">\n",
       "  <thead>\n",
       "    <tr style=\"text-align: right;\">\n",
       "      <th></th>\n",
       "      <th>ID</th>\n",
       "      <th>Lat</th>\n",
       "      <th>Lng</th>\n",
       "      <th>Bump</th>\n",
       "      <th>Distance(mi)</th>\n",
       "      <th>Crossing</th>\n",
       "      <th>Give_Way</th>\n",
       "      <th>Junction</th>\n",
       "      <th>No_Exit</th>\n",
       "      <th>Railway</th>\n",
       "      <th>Roundabout</th>\n",
       "      <th>Stop</th>\n",
       "      <th>Amenity</th>\n",
       "      <th>Side</th>\n",
       "      <th>Severity</th>\n",
       "      <th>timestamp</th>\n",
       "    </tr>\n",
       "  </thead>\n",
       "  <tbody>\n",
       "    <tr>\n",
       "      <th>0</th>\n",
       "      <td>0</td>\n",
       "      <td>37.762150</td>\n",
       "      <td>-122.405660</td>\n",
       "      <td>False</td>\n",
       "      <td>0.044</td>\n",
       "      <td>0</td>\n",
       "      <td>False</td>\n",
       "      <td>0</td>\n",
       "      <td>False</td>\n",
       "      <td>0</td>\n",
       "      <td>0</td>\n",
       "      <td>False</td>\n",
       "      <td>1</td>\n",
       "      <td>0</td>\n",
       "      <td>2</td>\n",
       "      <td>2016-03-25 15:13:02+00:00</td>\n",
       "    </tr>\n",
       "    <tr>\n",
       "      <th>1</th>\n",
       "      <td>1</td>\n",
       "      <td>37.719157</td>\n",
       "      <td>-122.448254</td>\n",
       "      <td>False</td>\n",
       "      <td>0.000</td>\n",
       "      <td>0</td>\n",
       "      <td>False</td>\n",
       "      <td>0</td>\n",
       "      <td>False</td>\n",
       "      <td>0</td>\n",
       "      <td>0</td>\n",
       "      <td>False</td>\n",
       "      <td>0</td>\n",
       "      <td>0</td>\n",
       "      <td>2</td>\n",
       "      <td>2020-05-05 19:23:00+00:00</td>\n",
       "    </tr>\n",
       "    <tr>\n",
       "      <th>2</th>\n",
       "      <td>2</td>\n",
       "      <td>37.808498</td>\n",
       "      <td>-122.366852</td>\n",
       "      <td>False</td>\n",
       "      <td>0.000</td>\n",
       "      <td>0</td>\n",
       "      <td>False</td>\n",
       "      <td>0</td>\n",
       "      <td>False</td>\n",
       "      <td>0</td>\n",
       "      <td>0</td>\n",
       "      <td>True</td>\n",
       "      <td>0</td>\n",
       "      <td>0</td>\n",
       "      <td>3</td>\n",
       "      <td>2016-09-16 19:57:16+00:00</td>\n",
       "    </tr>\n",
       "    <tr>\n",
       "      <th>3</th>\n",
       "      <td>3</td>\n",
       "      <td>37.785930</td>\n",
       "      <td>-122.391080</td>\n",
       "      <td>False</td>\n",
       "      <td>0.009</td>\n",
       "      <td>0</td>\n",
       "      <td>False</td>\n",
       "      <td>1</td>\n",
       "      <td>False</td>\n",
       "      <td>0</td>\n",
       "      <td>0</td>\n",
       "      <td>False</td>\n",
       "      <td>0</td>\n",
       "      <td>0</td>\n",
       "      <td>1</td>\n",
       "      <td>2020-03-29 19:48:43+00:00</td>\n",
       "    </tr>\n",
       "    <tr>\n",
       "      <th>4</th>\n",
       "      <td>4</td>\n",
       "      <td>37.719141</td>\n",
       "      <td>-122.448457</td>\n",
       "      <td>False</td>\n",
       "      <td>0.000</td>\n",
       "      <td>0</td>\n",
       "      <td>False</td>\n",
       "      <td>0</td>\n",
       "      <td>False</td>\n",
       "      <td>0</td>\n",
       "      <td>0</td>\n",
       "      <td>False</td>\n",
       "      <td>0</td>\n",
       "      <td>0</td>\n",
       "      <td>2</td>\n",
       "      <td>2019-10-09 08:47:00+00:00</td>\n",
       "    </tr>\n",
       "    <tr>\n",
       "      <th>5</th>\n",
       "      <td>5</td>\n",
       "      <td>37.769611</td>\n",
       "      <td>-122.416878</td>\n",
       "      <td>False</td>\n",
       "      <td>0.000</td>\n",
       "      <td>0</td>\n",
       "      <td>False</td>\n",
       "      <td>0</td>\n",
       "      <td>False</td>\n",
       "      <td>0</td>\n",
       "      <td>0</td>\n",
       "      <td>False</td>\n",
       "      <td>0</td>\n",
       "      <td>0</td>\n",
       "      <td>2</td>\n",
       "      <td>2019-09-22 08:45:38+00:00</td>\n",
       "    </tr>\n",
       "    <tr>\n",
       "      <th>6</th>\n",
       "      <td>6</td>\n",
       "      <td>37.727318</td>\n",
       "      <td>-122.402756</td>\n",
       "      <td>False</td>\n",
       "      <td>0.000</td>\n",
       "      <td>0</td>\n",
       "      <td>False</td>\n",
       "      <td>0</td>\n",
       "      <td>False</td>\n",
       "      <td>0</td>\n",
       "      <td>0</td>\n",
       "      <td>False</td>\n",
       "      <td>0</td>\n",
       "      <td>0</td>\n",
       "      <td>2</td>\n",
       "      <td>2019-10-23 07:11:42+00:00</td>\n",
       "    </tr>\n",
       "    <tr>\n",
       "      <th>7</th>\n",
       "      <td>7</td>\n",
       "      <td>37.731277</td>\n",
       "      <td>-122.435219</td>\n",
       "      <td>False</td>\n",
       "      <td>0.010</td>\n",
       "      <td>0</td>\n",
       "      <td>False</td>\n",
       "      <td>0</td>\n",
       "      <td>False</td>\n",
       "      <td>0</td>\n",
       "      <td>0</td>\n",
       "      <td>False</td>\n",
       "      <td>0</td>\n",
       "      <td>0</td>\n",
       "      <td>3</td>\n",
       "      <td>2016-03-25 13:36:15+00:00</td>\n",
       "    </tr>\n",
       "    <tr>\n",
       "      <th>8</th>\n",
       "      <td>8</td>\n",
       "      <td>37.787867</td>\n",
       "      <td>-122.396836</td>\n",
       "      <td>False</td>\n",
       "      <td>0.000</td>\n",
       "      <td>1</td>\n",
       "      <td>False</td>\n",
       "      <td>0</td>\n",
       "      <td>False</td>\n",
       "      <td>0</td>\n",
       "      <td>0</td>\n",
       "      <td>False</td>\n",
       "      <td>1</td>\n",
       "      <td>1</td>\n",
       "      <td>2</td>\n",
       "      <td>2020-02-23 18:38:00+00:00</td>\n",
       "    </tr>\n",
       "    <tr>\n",
       "      <th>9</th>\n",
       "      <td>9</td>\n",
       "      <td>37.756806</td>\n",
       "      <td>-122.403612</td>\n",
       "      <td>False</td>\n",
       "      <td>0.000</td>\n",
       "      <td>0</td>\n",
       "      <td>False</td>\n",
       "      <td>0</td>\n",
       "      <td>False</td>\n",
       "      <td>0</td>\n",
       "      <td>0</td>\n",
       "      <td>False</td>\n",
       "      <td>0</td>\n",
       "      <td>0</td>\n",
       "      <td>2</td>\n",
       "      <td>2019-09-25 18:07:00+00:00</td>\n",
       "    </tr>\n",
       "    <tr>\n",
       "      <th>10</th>\n",
       "      <td>10</td>\n",
       "      <td>37.768959</td>\n",
       "      <td>-122.406616</td>\n",
       "      <td>False</td>\n",
       "      <td>0.580</td>\n",
       "      <td>0</td>\n",
       "      <td>False</td>\n",
       "      <td>1</td>\n",
       "      <td>False</td>\n",
       "      <td>0</td>\n",
       "      <td>0</td>\n",
       "      <td>False</td>\n",
       "      <td>0</td>\n",
       "      <td>0</td>\n",
       "      <td>3</td>\n",
       "      <td>2020-02-28 19:41:14+00:00</td>\n",
       "    </tr>\n",
       "    <tr>\n",
       "      <th>11</th>\n",
       "      <td>11</td>\n",
       "      <td>37.721190</td>\n",
       "      <td>-122.447770</td>\n",
       "      <td>False</td>\n",
       "      <td>0.198</td>\n",
       "      <td>1</td>\n",
       "      <td>False</td>\n",
       "      <td>0</td>\n",
       "      <td>False</td>\n",
       "      <td>1</td>\n",
       "      <td>0</td>\n",
       "      <td>False</td>\n",
       "      <td>0</td>\n",
       "      <td>1</td>\n",
       "      <td>2</td>\n",
       "      <td>2016-10-03 14:26:38+00:00</td>\n",
       "    </tr>\n",
       "    <tr>\n",
       "      <th>12</th>\n",
       "      <td>12</td>\n",
       "      <td>37.810530</td>\n",
       "      <td>-122.364640</td>\n",
       "      <td>False</td>\n",
       "      <td>0.000</td>\n",
       "      <td>0</td>\n",
       "      <td>False</td>\n",
       "      <td>1</td>\n",
       "      <td>False</td>\n",
       "      <td>0</td>\n",
       "      <td>0</td>\n",
       "      <td>False</td>\n",
       "      <td>0</td>\n",
       "      <td>0</td>\n",
       "      <td>1</td>\n",
       "      <td>2020-06-06 13:30:49+00:00</td>\n",
       "    </tr>\n",
       "    <tr>\n",
       "      <th>13</th>\n",
       "      <td>13</td>\n",
       "      <td>37.753231</td>\n",
       "      <td>-122.402840</td>\n",
       "      <td>False</td>\n",
       "      <td>0.000</td>\n",
       "      <td>0</td>\n",
       "      <td>False</td>\n",
       "      <td>0</td>\n",
       "      <td>False</td>\n",
       "      <td>0</td>\n",
       "      <td>0</td>\n",
       "      <td>False</td>\n",
       "      <td>0</td>\n",
       "      <td>0</td>\n",
       "      <td>2</td>\n",
       "      <td>2018-02-17 09:55:48+00:00</td>\n",
       "    </tr>\n",
       "    <tr>\n",
       "      <th>14</th>\n",
       "      <td>14</td>\n",
       "      <td>37.730070</td>\n",
       "      <td>-122.439180</td>\n",
       "      <td>False</td>\n",
       "      <td>0.857</td>\n",
       "      <td>0</td>\n",
       "      <td>False</td>\n",
       "      <td>0</td>\n",
       "      <td>False</td>\n",
       "      <td>0</td>\n",
       "      <td>0</td>\n",
       "      <td>False</td>\n",
       "      <td>0</td>\n",
       "      <td>0</td>\n",
       "      <td>1</td>\n",
       "      <td>2020-04-05 11:13:58+00:00</td>\n",
       "    </tr>\n",
       "    <tr>\n",
       "      <th>15</th>\n",
       "      <td>15</td>\n",
       "      <td>37.752502</td>\n",
       "      <td>-122.403015</td>\n",
       "      <td>False</td>\n",
       "      <td>0.000</td>\n",
       "      <td>0</td>\n",
       "      <td>False</td>\n",
       "      <td>1</td>\n",
       "      <td>False</td>\n",
       "      <td>0</td>\n",
       "      <td>0</td>\n",
       "      <td>False</td>\n",
       "      <td>0</td>\n",
       "      <td>0</td>\n",
       "      <td>2</td>\n",
       "      <td>2019-08-28 21:35:14+00:00</td>\n",
       "    </tr>\n",
       "    <tr>\n",
       "      <th>16</th>\n",
       "      <td>16</td>\n",
       "      <td>37.808498</td>\n",
       "      <td>-122.366852</td>\n",
       "      <td>False</td>\n",
       "      <td>0.000</td>\n",
       "      <td>0</td>\n",
       "      <td>False</td>\n",
       "      <td>0</td>\n",
       "      <td>False</td>\n",
       "      <td>0</td>\n",
       "      <td>0</td>\n",
       "      <td>True</td>\n",
       "      <td>0</td>\n",
       "      <td>0</td>\n",
       "      <td>3</td>\n",
       "      <td>2017-11-29 04:19:41+00:00</td>\n",
       "    </tr>\n",
       "    <tr>\n",
       "      <th>17</th>\n",
       "      <td>17</td>\n",
       "      <td>37.774891</td>\n",
       "      <td>-122.401016</td>\n",
       "      <td>False</td>\n",
       "      <td>0.000</td>\n",
       "      <td>0</td>\n",
       "      <td>False</td>\n",
       "      <td>0</td>\n",
       "      <td>False</td>\n",
       "      <td>0</td>\n",
       "      <td>0</td>\n",
       "      <td>False</td>\n",
       "      <td>1</td>\n",
       "      <td>0</td>\n",
       "      <td>2</td>\n",
       "      <td>2016-09-07 13:06:12+00:00</td>\n",
       "    </tr>\n",
       "    <tr>\n",
       "      <th>18</th>\n",
       "      <td>18</td>\n",
       "      <td>37.718611</td>\n",
       "      <td>-122.472584</td>\n",
       "      <td>False</td>\n",
       "      <td>0.000</td>\n",
       "      <td>0</td>\n",
       "      <td>False</td>\n",
       "      <td>0</td>\n",
       "      <td>False</td>\n",
       "      <td>0</td>\n",
       "      <td>0</td>\n",
       "      <td>True</td>\n",
       "      <td>0</td>\n",
       "      <td>1</td>\n",
       "      <td>2</td>\n",
       "      <td>2019-12-06 22:58:00+00:00</td>\n",
       "    </tr>\n",
       "    <tr>\n",
       "      <th>19</th>\n",
       "      <td>19</td>\n",
       "      <td>37.769291</td>\n",
       "      <td>-122.410764</td>\n",
       "      <td>False</td>\n",
       "      <td>0.000</td>\n",
       "      <td>0</td>\n",
       "      <td>False</td>\n",
       "      <td>0</td>\n",
       "      <td>False</td>\n",
       "      <td>0</td>\n",
       "      <td>0</td>\n",
       "      <td>False</td>\n",
       "      <td>0</td>\n",
       "      <td>0</td>\n",
       "      <td>2</td>\n",
       "      <td>2020-04-08 22:08:00+00:00</td>\n",
       "    </tr>\n",
       "  </tbody>\n",
       "</table>\n",
       "</div>"
      ],
      "text/plain": [
       "    ID        Lat         Lng   Bump  Distance(mi)  Crossing  Give_Way  \\\n",
       "0    0  37.762150 -122.405660  False         0.044         0     False   \n",
       "1    1  37.719157 -122.448254  False         0.000         0     False   \n",
       "2    2  37.808498 -122.366852  False         0.000         0     False   \n",
       "3    3  37.785930 -122.391080  False         0.009         0     False   \n",
       "4    4  37.719141 -122.448457  False         0.000         0     False   \n",
       "5    5  37.769611 -122.416878  False         0.000         0     False   \n",
       "6    6  37.727318 -122.402756  False         0.000         0     False   \n",
       "7    7  37.731277 -122.435219  False         0.010         0     False   \n",
       "8    8  37.787867 -122.396836  False         0.000         1     False   \n",
       "9    9  37.756806 -122.403612  False         0.000         0     False   \n",
       "10  10  37.768959 -122.406616  False         0.580         0     False   \n",
       "11  11  37.721190 -122.447770  False         0.198         1     False   \n",
       "12  12  37.810530 -122.364640  False         0.000         0     False   \n",
       "13  13  37.753231 -122.402840  False         0.000         0     False   \n",
       "14  14  37.730070 -122.439180  False         0.857         0     False   \n",
       "15  15  37.752502 -122.403015  False         0.000         0     False   \n",
       "16  16  37.808498 -122.366852  False         0.000         0     False   \n",
       "17  17  37.774891 -122.401016  False         0.000         0     False   \n",
       "18  18  37.718611 -122.472584  False         0.000         0     False   \n",
       "19  19  37.769291 -122.410764  False         0.000         0     False   \n",
       "\n",
       "    Junction  No_Exit  Railway  Roundabout   Stop  Amenity  Side  Severity  \\\n",
       "0          0    False        0           0  False        1     0         2   \n",
       "1          0    False        0           0  False        0     0         2   \n",
       "2          0    False        0           0   True        0     0         3   \n",
       "3          1    False        0           0  False        0     0         1   \n",
       "4          0    False        0           0  False        0     0         2   \n",
       "5          0    False        0           0  False        0     0         2   \n",
       "6          0    False        0           0  False        0     0         2   \n",
       "7          0    False        0           0  False        0     0         3   \n",
       "8          0    False        0           0  False        1     1         2   \n",
       "9          0    False        0           0  False        0     0         2   \n",
       "10         1    False        0           0  False        0     0         3   \n",
       "11         0    False        1           0  False        0     1         2   \n",
       "12         1    False        0           0  False        0     0         1   \n",
       "13         0    False        0           0  False        0     0         2   \n",
       "14         0    False        0           0  False        0     0         1   \n",
       "15         1    False        0           0  False        0     0         2   \n",
       "16         0    False        0           0   True        0     0         3   \n",
       "17         0    False        0           0  False        1     0         2   \n",
       "18         0    False        0           0   True        0     1         2   \n",
       "19         0    False        0           0  False        0     0         2   \n",
       "\n",
       "                   timestamp  \n",
       "0  2016-03-25 15:13:02+00:00  \n",
       "1  2020-05-05 19:23:00+00:00  \n",
       "2  2016-09-16 19:57:16+00:00  \n",
       "3  2020-03-29 19:48:43+00:00  \n",
       "4  2019-10-09 08:47:00+00:00  \n",
       "5  2019-09-22 08:45:38+00:00  \n",
       "6  2019-10-23 07:11:42+00:00  \n",
       "7  2016-03-25 13:36:15+00:00  \n",
       "8  2020-02-23 18:38:00+00:00  \n",
       "9  2019-09-25 18:07:00+00:00  \n",
       "10 2020-02-28 19:41:14+00:00  \n",
       "11 2016-10-03 14:26:38+00:00  \n",
       "12 2020-06-06 13:30:49+00:00  \n",
       "13 2018-02-17 09:55:48+00:00  \n",
       "14 2020-04-05 11:13:58+00:00  \n",
       "15 2019-08-28 21:35:14+00:00  \n",
       "16 2017-11-29 04:19:41+00:00  \n",
       "17 2016-09-07 13:06:12+00:00  \n",
       "18 2019-12-06 22:58:00+00:00  \n",
       "19 2020-04-08 22:08:00+00:00  "
      ]
     },
     "execution_count": 7,
     "metadata": {},
     "output_type": "execute_result"
    }
   ],
   "source": [
    "df['Side'] = df['Side'].replace(['R','L'],[0,1])\n",
    "df.head(20)"
   ]
  },
  {
   "cell_type": "code",
   "execution_count": 1,
   "metadata": {
    "execution": {
     "iopub.execute_input": "2021-07-27T15:29:49.775084Z",
     "iopub.status.busy": "2021-07-27T15:29:49.773905Z",
     "iopub.status.idle": "2021-07-27T15:29:49.800215Z",
     "shell.execute_reply": "2021-07-27T15:29:49.801076Z",
     "shell.execute_reply.started": "2021-07-27T15:28:20.527737Z"
    },
    "papermill": {
     "duration": 0.075581,
     "end_time": "2021-07-27T15:29:49.801382",
     "exception": false,
     "start_time": "2021-07-27T15:29:49.725801",
     "status": "completed"
    },
    "tags": []
   },
   "outputs": [
    {
     "ename": "NameError",
     "evalue": "name 'df' is not defined",
     "output_type": "error",
     "traceback": [
      "\u001b[1;31m---------------------------------------------------------------------------\u001b[0m",
      "\u001b[1;31mNameError\u001b[0m                                 Traceback (most recent call last)",
      "\u001b[1;32m<ipython-input-1-b2b76c03605b>\u001b[0m in \u001b[0;36m<module>\u001b[1;34m\u001b[0m\n\u001b[0;32m      1\u001b[0m \u001b[1;31m# spliiting the Timestamp column as preparation for merging the data with weather data\u001b[0m\u001b[1;33m\u001b[0m\u001b[1;33m\u001b[0m\u001b[1;33m\u001b[0m\u001b[0m\n\u001b[0;32m      2\u001b[0m \u001b[1;33m\u001b[0m\u001b[0m\n\u001b[1;32m----> 3\u001b[1;33m \u001b[0mdf\u001b[0m\u001b[1;33m[\u001b[0m\u001b[1;34m'Year'\u001b[0m\u001b[1;33m]\u001b[0m \u001b[1;33m=\u001b[0m \u001b[0mdf\u001b[0m\u001b[1;33m.\u001b[0m\u001b[0mtimestamp\u001b[0m\u001b[1;33m.\u001b[0m\u001b[0mdt\u001b[0m\u001b[1;33m.\u001b[0m\u001b[0myear\u001b[0m\u001b[1;33m\u001b[0m\u001b[1;33m\u001b[0m\u001b[0m\n\u001b[0m\u001b[0;32m      4\u001b[0m \u001b[0mdf\u001b[0m\u001b[1;33m[\u001b[0m\u001b[1;34m'Month'\u001b[0m\u001b[1;33m]\u001b[0m \u001b[1;33m=\u001b[0m \u001b[0mdf\u001b[0m\u001b[1;33m.\u001b[0m\u001b[0mtimestamp\u001b[0m\u001b[1;33m.\u001b[0m\u001b[0mdt\u001b[0m\u001b[1;33m.\u001b[0m\u001b[0mmonth\u001b[0m\u001b[1;33m\u001b[0m\u001b[1;33m\u001b[0m\u001b[0m\n\u001b[0;32m      5\u001b[0m \u001b[0mdf\u001b[0m\u001b[1;33m[\u001b[0m\u001b[1;34m'Day'\u001b[0m\u001b[1;33m]\u001b[0m \u001b[1;33m=\u001b[0m \u001b[0mdf\u001b[0m\u001b[1;33m.\u001b[0m\u001b[0mtimestamp\u001b[0m\u001b[1;33m.\u001b[0m\u001b[0mdt\u001b[0m\u001b[1;33m.\u001b[0m\u001b[0mday\u001b[0m\u001b[1;33m\u001b[0m\u001b[1;33m\u001b[0m\u001b[0m\n",
      "\u001b[1;31mNameError\u001b[0m: name 'df' is not defined"
     ]
    }
   ],
   "source": [
    "# spliiting the Timestamp column as preparation for merging the data with weather data\n",
    "\n",
    "df['Year'] = df.timestamp.dt.year\n",
    "df['Month'] = df.timestamp.dt.month\n",
    "df['Day'] = df.timestamp.dt.day\n",
    "df['weekday'] = df.timestamp.dt.weekday\n",
    "\n",
    "\n",
    "# checking the splitiing step\n",
    "df.info()"
   ]
  },
  {
   "cell_type": "code",
   "execution_count": null,
   "metadata": {
    "papermill": {
     "duration": 0.040852,
     "end_time": "2021-07-27T15:29:49.884020",
     "exception": false,
     "start_time": "2021-07-27T15:29:49.843168",
     "status": "completed"
    },
    "tags": []
   },
   "outputs": [],
   "source": []
  },
  {
   "cell_type": "code",
   "execution_count": 9,
   "metadata": {
    "execution": {
     "iopub.execute_input": "2021-07-27T15:29:49.975923Z",
     "iopub.status.busy": "2021-07-27T15:29:49.974679Z",
     "iopub.status.idle": "2021-07-27T15:29:50.192411Z",
     "shell.execute_reply": "2021-07-27T15:29:50.191183Z",
     "shell.execute_reply.started": "2021-07-27T15:28:20.553202Z"
    },
    "papermill": {
     "duration": 0.267786,
     "end_time": "2021-07-27T15:29:50.192616",
     "exception": false,
     "start_time": "2021-07-27T15:29:49.924830",
     "status": "completed"
    },
    "tags": []
   },
   "outputs": [
    {
     "data": {
      "text/plain": [
       "Text(0, 0.5, 'Count')"
      ]
     },
     "execution_count": 9,
     "metadata": {},
     "output_type": "execute_result"
    },
    {
     "data": {
      "image/png": "[encoded data removed]",
      "text/plain": [
       "<Figure size 432x288 with 1 Axes>"
      ]
     },
     "metadata": {
      "needs_background": "light"
     },
     "output_type": "display_data"
    }
   ],
   "source": [
    "# check the spreading of Data accross Severity \n",
    "data = df.groupby(\"Severity\").ID.count()\n",
    "data = pd.DataFrame(data).reset_index()\n",
    "g = sb.barplot(data = data ,y = \"ID\", x = \"Severity\" , color = sb.color_palette()[0])\n",
    "for index, row in data.iterrows():\n",
    "    g.text(row.name,row.ID, round(row.ID,2), color='black', ha=\"center\")\n",
    "    \n",
    "plt.title(\"Severity Distribution\")\n",
    "plt.xlabel(\"Severity\")\n",
    "plt.ylabel(\"Count\")"
   ]
  },
  {
   "cell_type": "code",
   "execution_count": 10,
   "metadata": {
    "execution": {
     "iopub.execute_input": "2021-07-27T15:29:50.280130Z",
     "iopub.status.busy": "2021-07-27T15:29:50.279334Z",
     "iopub.status.idle": "2021-07-27T15:29:50.302836Z",
     "shell.execute_reply": "2021-07-27T15:29:50.301975Z",
     "shell.execute_reply.started": "2021-07-27T15:28:20.721435Z"
    },
    "papermill": {
     "duration": 0.070394,
     "end_time": "2021-07-27T15:29:50.303032",
     "exception": false,
     "start_time": "2021-07-27T15:29:50.232638",
     "status": "completed"
    },
    "tags": []
   },
   "outputs": [
    {
     "name": "stdout",
     "output_type": "stream",
     "text": [
      "(90, 2)\n",
      "<class 'pandas.core.frame.DataFrame'>\n",
      "RangeIndex: 90 entries, 0 to 89\n",
      "Data columns (total 2 columns):\n",
      " #   Column   Non-Null Count  Dtype \n",
      "---  ------   --------------  ----- \n",
      " 0   date     90 non-null     object\n",
      " 1   holiday  90 non-null     object\n",
      "dtypes: object(2)\n",
      "memory usage: 1.5+ KB\n"
     ]
    }
   ],
   "source": [
    "cols = [\"date\", \"holiday\"]\n",
    "rows = []\n",
    "xmlparse = Xet.parse(os.path.join(dataset_path, 'holidays.xml'))\n",
    "root = xmlparse.getroot()\n",
    "for i in root:\n",
    "    date = i.find(\"date\").text\n",
    "    description = i.find(\"description\").text\n",
    "    \n",
    "    rows.append({\"date\": date,\n",
    "                 \"holiday\": description})\n",
    "\n",
    "holidayDF = pd.DataFrame(rows, columns=cols)\n",
    "print(holidayDF.shape)\n",
    "holidayDF.info()\n"
   ]
  },
  {
   "cell_type": "code",
   "execution_count": 11,
   "metadata": {
    "execution": {
     "iopub.execute_input": "2021-07-27T15:29:50.404963Z",
     "iopub.status.busy": "2021-07-27T15:29:50.404187Z",
     "iopub.status.idle": "2021-07-27T15:29:50.407179Z",
     "shell.execute_reply": "2021-07-27T15:29:50.407660Z",
     "shell.execute_reply.started": "2021-07-27T15:28:20.745621Z"
    },
    "papermill": {
     "duration": 0.064571,
     "end_time": "2021-07-27T15:29:50.407869",
     "exception": false,
     "start_time": "2021-07-27T15:29:50.343298",
     "status": "completed"
    },
    "tags": []
   },
   "outputs": [
    {
     "data": {
      "text/html": [
       "<div>\n",
       "<style scoped>\n",
       "    .dataframe tbody tr th:only-of-type {\n",
       "        vertical-align: middle;\n",
       "    }\n",
       "\n",
       "    .dataframe tbody tr th {\n",
       "        vertical-align: top;\n",
       "    }\n",
       "\n",
       "    .dataframe thead th {\n",
       "        text-align: right;\n",
       "    }\n",
       "</style>\n",
       "<table border=\"1\" class=\"dataframe\">\n",
       "  <thead>\n",
       "    <tr style=\"text-align: right;\">\n",
       "      <th></th>\n",
       "      <th>holiday</th>\n",
       "      <th>timestamp</th>\n",
       "    </tr>\n",
       "  </thead>\n",
       "  <tbody>\n",
       "    <tr>\n",
       "      <th>0</th>\n",
       "      <td>New Year Day</td>\n",
       "      <td>2012-01-02</td>\n",
       "    </tr>\n",
       "    <tr>\n",
       "      <th>1</th>\n",
       "      <td>Martin Luther King Jr. Day</td>\n",
       "      <td>2012-01-16</td>\n",
       "    </tr>\n",
       "    <tr>\n",
       "      <th>2</th>\n",
       "      <td>Presidents Day (Washingtons Birthday)</td>\n",
       "      <td>2012-02-20</td>\n",
       "    </tr>\n",
       "    <tr>\n",
       "      <th>3</th>\n",
       "      <td>Memorial Day</td>\n",
       "      <td>2012-05-28</td>\n",
       "    </tr>\n",
       "    <tr>\n",
       "      <th>4</th>\n",
       "      <td>Independence Day</td>\n",
       "      <td>2012-07-04</td>\n",
       "    </tr>\n",
       "  </tbody>\n",
       "</table>\n",
       "</div>"
      ],
      "text/plain": [
       "                                 holiday   timestamp\n",
       "0                           New Year Day  2012-01-02\n",
       "1             Martin Luther King Jr. Day  2012-01-16\n",
       "2  Presidents Day (Washingtons Birthday)  2012-02-20\n",
       "3                           Memorial Day  2012-05-28\n",
       "4                       Independence Day  2012-07-04"
      ]
     },
     "execution_count": 11,
     "metadata": {},
     "output_type": "execute_result"
    }
   ],
   "source": [
    "# conversion of date from object format to datetime\n",
    "holidayDF['timestamp'] = pd.to_datetime(holidayDF.date,utc = True)\n",
    "holidayDF['timestamp'] = holidayDF.timestamp.dt.date\n",
    "df['timestamp'] = df.timestamp.dt.date\n",
    "holidayDF.drop([\"date\"], axis=1, inplace=True)\n",
    "\n",
    "holidayDF.head()\n"
   ]
  },
  {
   "cell_type": "code",
   "execution_count": 12,
   "metadata": {
    "execution": {
     "iopub.execute_input": "2021-07-27T15:29:50.494341Z",
     "iopub.status.busy": "2021-07-27T15:29:50.493456Z",
     "iopub.status.idle": "2021-07-27T15:29:50.550520Z",
     "shell.execute_reply": "2021-07-27T15:29:50.551003Z",
     "shell.execute_reply.started": "2021-07-27T15:28:20.769707Z"
    },
    "papermill": {
     "duration": 0.10195,
     "end_time": "2021-07-27T15:29:50.551218",
     "exception": false,
     "start_time": "2021-07-27T15:29:50.449268",
     "status": "completed"
    },
    "tags": []
   },
   "outputs": [
    {
     "name": "stdout",
     "output_type": "stream",
     "text": [
      "(6407, 21)\n"
     ]
    },
    {
     "data": {
      "text/plain": [
       "ID              0\n",
       "Lat             0\n",
       "Lng             0\n",
       "Bump            0\n",
       "Distance(mi)    0\n",
       "Crossing        0\n",
       "Give_Way        0\n",
       "Junction        0\n",
       "No_Exit         0\n",
       "Railway         0\n",
       "Roundabout      0\n",
       "Stop            0\n",
       "Amenity         0\n",
       "Side            0\n",
       "Severity        0\n",
       "timestamp       0\n",
       "Year            0\n",
       "Month           0\n",
       "Day             0\n",
       "Hour            0\n",
       "holiday         0\n",
       "dtype: int64"
      ]
     },
     "execution_count": 12,
     "metadata": {},
     "output_type": "execute_result"
    }
   ],
   "source": [
    "# merging the holiday conditon to data\n",
    "import numpy as np\n",
    "holidayMergedDF = pd.merge(df,holidayDF,how = 'left' ,on = ['timestamp'])\n",
    "holidayMergedDF['holiday'] = holidayMergedDF['holiday'] * 0\n",
    "holidayMergedDF['holiday'] = holidayMergedDF['holiday'].replace([np.NaN,''],[0,1])\n",
    "print(holidayMergedDF.shape)\n",
    "holidayMergedDF.isnull().sum()"
   ]
  },
  {
   "cell_type": "code",
   "execution_count": 13,
   "metadata": {
    "execution": {
     "iopub.execute_input": "2021-07-27T15:29:50.637679Z",
     "iopub.status.busy": "2021-07-27T15:29:50.636931Z",
     "iopub.status.idle": "2021-07-27T15:29:50.685899Z",
     "shell.execute_reply": "2021-07-27T15:29:50.686940Z",
     "shell.execute_reply.started": "2021-07-27T15:28:20.802684Z"
    },
    "papermill": {
     "duration": 0.094728,
     "end_time": "2021-07-27T15:29:50.687256",
     "exception": false,
     "start_time": "2021-07-27T15:29:50.592528",
     "status": "completed"
    },
    "tags": []
   },
   "outputs": [
    {
     "name": "stdout",
     "output_type": "stream",
     "text": [
      "The shape of the dataset is (6901, 12).\n",
      "\n",
      "\n"
     ]
    },
    {
     "data": {
      "text/html": [
       "<div>\n",
       "<style scoped>\n",
       "    .dataframe tbody tr th:only-of-type {\n",
       "        vertical-align: middle;\n",
       "    }\n",
       "\n",
       "    .dataframe tbody tr th {\n",
       "        vertical-align: top;\n",
       "    }\n",
       "\n",
       "    .dataframe thead th {\n",
       "        text-align: right;\n",
       "    }\n",
       "</style>\n",
       "<table border=\"1\" class=\"dataframe\">\n",
       "  <thead>\n",
       "    <tr style=\"text-align: right;\">\n",
       "      <th></th>\n",
       "      <th>Year</th>\n",
       "      <th>Day</th>\n",
       "      <th>Month</th>\n",
       "      <th>Hour</th>\n",
       "      <th>Weather_Condition</th>\n",
       "      <th>Wind_Chill(F)</th>\n",
       "      <th>Precipitation(in)</th>\n",
       "      <th>Temperature(F)</th>\n",
       "      <th>Humidity(%)</th>\n",
       "      <th>Wind_Speed(mph)</th>\n",
       "      <th>Visibility(mi)</th>\n",
       "      <th>Selected</th>\n",
       "    </tr>\n",
       "  </thead>\n",
       "  <tbody>\n",
       "    <tr>\n",
       "      <th>0</th>\n",
       "      <td>2020</td>\n",
       "      <td>27</td>\n",
       "      <td>7</td>\n",
       "      <td>18</td>\n",
       "      <td>Fair</td>\n",
       "      <td>64.0</td>\n",
       "      <td>0.0</td>\n",
       "      <td>64.0</td>\n",
       "      <td>70.0</td>\n",
       "      <td>20.0</td>\n",
       "      <td>10.0</td>\n",
       "      <td>No</td>\n",
       "    </tr>\n",
       "    <tr>\n",
       "      <th>1</th>\n",
       "      <td>2017</td>\n",
       "      <td>30</td>\n",
       "      <td>9</td>\n",
       "      <td>17</td>\n",
       "      <td>Partly Cloudy</td>\n",
       "      <td>NaN</td>\n",
       "      <td>NaN</td>\n",
       "      <td>71.1</td>\n",
       "      <td>57.0</td>\n",
       "      <td>9.2</td>\n",
       "      <td>10.0</td>\n",
       "      <td>No</td>\n",
       "    </tr>\n",
       "    <tr>\n",
       "      <th>2</th>\n",
       "      <td>2017</td>\n",
       "      <td>27</td>\n",
       "      <td>6</td>\n",
       "      <td>5</td>\n",
       "      <td>Overcast</td>\n",
       "      <td>NaN</td>\n",
       "      <td>NaN</td>\n",
       "      <td>57.9</td>\n",
       "      <td>87.0</td>\n",
       "      <td>15.0</td>\n",
       "      <td>9.0</td>\n",
       "      <td>No</td>\n",
       "    </tr>\n",
       "    <tr>\n",
       "      <th>3</th>\n",
       "      <td>2016</td>\n",
       "      <td>7</td>\n",
       "      <td>9</td>\n",
       "      <td>9</td>\n",
       "      <td>Clear</td>\n",
       "      <td>NaN</td>\n",
       "      <td>NaN</td>\n",
       "      <td>66.9</td>\n",
       "      <td>73.0</td>\n",
       "      <td>4.6</td>\n",
       "      <td>10.0</td>\n",
       "      <td>No</td>\n",
       "    </tr>\n",
       "    <tr>\n",
       "      <th>4</th>\n",
       "      <td>2019</td>\n",
       "      <td>19</td>\n",
       "      <td>10</td>\n",
       "      <td>2</td>\n",
       "      <td>Fair</td>\n",
       "      <td>52.0</td>\n",
       "      <td>0.0</td>\n",
       "      <td>52.0</td>\n",
       "      <td>89.0</td>\n",
       "      <td>0.0</td>\n",
       "      <td>9.0</td>\n",
       "      <td>No</td>\n",
       "    </tr>\n",
       "  </tbody>\n",
       "</table>\n",
       "</div>"
      ],
      "text/plain": [
       "   Year  Day  Month  Hour Weather_Condition  Wind_Chill(F)  Precipitation(in)  \\\n",
       "0  2020   27      7    18              Fair           64.0                0.0   \n",
       "1  2017   30      9    17     Partly Cloudy            NaN                NaN   \n",
       "2  2017   27      6     5          Overcast            NaN                NaN   \n",
       "3  2016    7      9     9             Clear            NaN                NaN   \n",
       "4  2019   19     10     2              Fair           52.0                0.0   \n",
       "\n",
       "   Temperature(F)  Humidity(%)  Wind_Speed(mph)  Visibility(mi) Selected  \n",
       "0            64.0         70.0             20.0            10.0       No  \n",
       "1            71.1         57.0              9.2            10.0       No  \n",
       "2            57.9         87.0             15.0             9.0       No  \n",
       "3            66.9         73.0              4.6            10.0       No  \n",
       "4            52.0         89.0              0.0             9.0       No  "
      ]
     },
     "execution_count": 13,
     "metadata": {},
     "output_type": "execute_result"
    }
   ],
   "source": [
    "# loading the second dataFrame (weather Condition)\n",
    "weatherDF = pd.read_csv(os.path.join(dataset_path, 'weather-sfcsv.csv'))\n",
    "\n",
    "print(\"The shape of the dataset is {}.\\n\\n\".format(weatherDF.shape))\n",
    "\n",
    "weatherDF.head()"
   ]
  },
  {
   "cell_type": "code",
   "execution_count": 14,
   "metadata": {
    "execution": {
     "iopub.execute_input": "2021-07-27T15:29:50.783837Z",
     "iopub.status.busy": "2021-07-27T15:29:50.782947Z",
     "iopub.status.idle": "2021-07-27T15:29:50.804085Z",
     "shell.execute_reply": "2021-07-27T15:29:50.803305Z",
     "shell.execute_reply.started": "2021-07-27T15:28:20.841866Z"
    },
    "papermill": {
     "duration": 0.074581,
     "end_time": "2021-07-27T15:29:50.804258",
     "exception": false,
     "start_time": "2021-07-27T15:29:50.729677",
     "status": "completed"
    },
    "tags": []
   },
   "outputs": [
    {
     "name": "stdout",
     "output_type": "stream",
     "text": [
      "Year                    0\n",
      "Day                     0\n",
      "Month                   0\n",
      "Hour                    0\n",
      "Weather_Condition       1\n",
      "Wind_Chill(F)        3609\n",
      "Precipitation(in)    3327\n",
      "Temperature(F)          2\n",
      "Humidity(%)             2\n",
      "Wind_Speed(mph)       345\n",
      "Visibility(mi)          1\n",
      "Selected                0\n",
      "dtype: int64\n",
      "Year                 0\n",
      "Day                  0\n",
      "Month                0\n",
      "Hour                 0\n",
      "Weather_Condition    0\n",
      "Temperature(F)       0\n",
      "Humidity(%)          0\n",
      "Wind_Speed(mph)      0\n",
      "Visibility(mi)       0\n",
      "Selected             0\n",
      "dtype: int64\n"
     ]
    }
   ],
   "source": [
    "# cleaning Data\n",
    "print(weatherDF.isnull().sum())\n",
    "weatherDF['Weather_Condition'] = weatherDF['Weather_Condition'].astype('category').cat.codes\n",
    "weatherDF.drop([\"Precipitation(in)\",\"Wind_Chill(F)\"], axis=1, inplace=True)\n",
    "# weatherDF['Humidity(%)'].fillna((weatherDF['Humidity(%)'].mean()), inplace=True)\n",
    "# weatherDF['Weather_Condition'].fillna((weatherDF['Weather_Condition'].mode()), inplace=True)\n",
    "# weatherDF['Temperature(F)'].fillna((weatherDF['Temperature(F)'].mean()), inplace=True)\n",
    "# weatherDF['Visibility(mi)'].fillna((weatherDF['Visibility(mi)'].mean()), inplace=True)\n",
    "weatherDF.dropna(subset=['Humidity(%)','Weather_Condition','Temperature(F)','Visibility(mi)'],inplace = True)\n",
    "weatherDF['Wind_Speed(mph)'].fillna((weatherDF['Wind_Speed(mph)'].mean()), inplace=True)\n",
    "print(weatherDF.isnull().sum())"
   ]
  },
  {
   "cell_type": "code",
   "execution_count": 15,
   "metadata": {
    "execution": {
     "iopub.execute_input": "2021-07-27T15:29:50.899789Z",
     "iopub.status.busy": "2021-07-27T15:29:50.898375Z",
     "iopub.status.idle": "2021-07-27T15:29:50.905994Z",
     "shell.execute_reply": "2021-07-27T15:29:50.906563Z",
     "shell.execute_reply.started": "2021-07-27T15:28:20.866552Z"
    },
    "papermill": {
     "duration": 0.059007,
     "end_time": "2021-07-27T15:29:50.906768",
     "exception": false,
     "start_time": "2021-07-27T15:29:50.847761",
     "status": "completed"
    },
    "tags": []
   },
   "outputs": [
    {
     "name": "stdout",
     "output_type": "stream",
     "text": [
      "(6899, 10)\n",
      "shape after removing duplicated relative to Hour , Day, Month and Year  (5970, 10)\n"
     ]
    }
   ],
   "source": [
    "# cleaning of data\n",
    "print(weatherDF.shape)\n",
    "uniqueWeatherDF  = weatherDF.drop_duplicates(['Year','Hour', 'Day' ,'Month'],keep = 'last', inplace = False)\n",
    "print(\"shape after removing duplicated relative to Hour , Day, Month and Year \",uniqueWeatherDF.shape)\n",
    "\n",
    "\n",
    "# for cl in uniqueWeatherDF.select_dtypes(include=['object']):\n",
    "#     uniqueWeatherDF[cl],_ = pd.factorize(uniqueWeatherDF[cl])"
   ]
  },
  {
   "cell_type": "markdown",
   "metadata": {
    "papermill": {
     "duration": 0.042558,
     "end_time": "2021-07-27T15:29:50.992721",
     "exception": false,
     "start_time": "2021-07-27T15:29:50.950163",
     "status": "completed"
    },
    "tags": []
   },
   "source": [
    "The output shows desciptive statistics for the numerical features, `Lat`, `Lng`, `Distance(mi)`, and `Severity`. I'll use the numerical features to demonstrate how to train the model and make submissions. **However you shouldn't use the numerical features only to make the final submission if you want to make it to the top of the leaderboard.**"
   ]
  },
  {
   "cell_type": "code",
   "execution_count": 16,
   "metadata": {
    "execution": {
     "iopub.execute_input": "2021-07-27T15:29:51.094393Z",
     "iopub.status.busy": "2021-07-27T15:29:51.092577Z",
     "iopub.status.idle": "2021-07-27T15:29:51.125637Z",
     "shell.execute_reply": "2021-07-27T15:29:51.124574Z",
     "shell.execute_reply.started": "2021-07-27T15:28:20.878369Z"
    },
    "papermill": {
     "duration": 0.085832,
     "end_time": "2021-07-27T15:29:51.125906",
     "exception": false,
     "start_time": "2021-07-27T15:29:51.040074",
     "status": "completed"
    },
    "tags": []
   },
   "outputs": [
    {
     "name": "stdout",
     "output_type": "stream",
     "text": [
      "(6407, 27)\n",
      "(6405, 27)\n"
     ]
    }
   ],
   "source": [
    "# merging the weather conditon to data\n",
    "weatherMergedDF = pd.merge(holidayMergedDF,uniqueWeatherDF,how = 'left' ,on = ['Hour' ,'Year', 'Day' ,'Month'])\n",
    "print(weatherMergedDF.shape)\n",
    "weatherMergedDF.dropna(inplace = True)\n",
    "print(weatherMergedDF.shape)"
   ]
  },
  {
   "cell_type": "code",
   "execution_count": 17,
   "metadata": {
    "execution": {
     "iopub.execute_input": "2021-07-27T15:29:51.241074Z",
     "iopub.status.busy": "2021-07-27T15:29:51.228619Z",
     "iopub.status.idle": "2021-07-27T15:29:51.246939Z",
     "shell.execute_reply": "2021-07-27T15:29:51.246340Z",
     "shell.execute_reply.started": "2021-07-27T15:28:20.907064Z"
    },
    "papermill": {
     "duration": 0.075044,
     "end_time": "2021-07-27T15:29:51.247107",
     "exception": false,
     "start_time": "2021-07-27T15:29:51.172063",
     "status": "completed"
    },
    "tags": []
   },
   "outputs": [
    {
     "name": "stdout",
     "output_type": "stream",
     "text": [
      "(6405, 22)\n",
      "<class 'pandas.core.frame.DataFrame'>\n",
      "Int64Index: 6405 entries, 0 to 6406\n",
      "Data columns (total 22 columns):\n",
      " #   Column             Non-Null Count  Dtype  \n",
      "---  ------             --------------  -----  \n",
      " 0   ID                 6405 non-null   int64  \n",
      " 1   Lat                6405 non-null   float64\n",
      " 2   Lng                6405 non-null   float64\n",
      " 3   Distance(mi)       6405 non-null   float64\n",
      " 4   Crossing           6405 non-null   int64  \n",
      " 5   Junction           6405 non-null   int64  \n",
      " 6   Railway            6405 non-null   int64  \n",
      " 7   Stop               6405 non-null   bool   \n",
      " 8   Amenity            6405 non-null   int64  \n",
      " 9   Side               6405 non-null   int64  \n",
      " 10  Severity           6405 non-null   int64  \n",
      " 11  timestamp          6405 non-null   object \n",
      " 12  Year               6405 non-null   int64  \n",
      " 13  Month              6405 non-null   int64  \n",
      " 14  Day                6405 non-null   int64  \n",
      " 15  Hour               6405 non-null   int64  \n",
      " 16  holiday            6405 non-null   int64  \n",
      " 17  Weather_Condition  6405 non-null   float64\n",
      " 18  Temperature(F)     6405 non-null   float64\n",
      " 19  Humidity(%)        6405 non-null   float64\n",
      " 20  Wind_Speed(mph)    6405 non-null   float64\n",
      " 21  Visibility(mi)     6405 non-null   float64\n",
      "dtypes: bool(1), float64(8), int64(12), object(1)\n",
      "memory usage: 1.1+ MB\n"
     ]
    }
   ],
   "source": [
    "# removing some nonImportant columns \n",
    "df = weatherMergedDF.drop(columns=['Bump', 'Give_Way','No_Exit','Selected','Roundabout'])\n",
    "print(df.shape)\n",
    "df.info()\n"
   ]
  },
  {
   "cell_type": "code",
   "execution_count": 18,
   "metadata": {
    "execution": {
     "iopub.execute_input": "2021-07-27T15:29:51.345878Z",
     "iopub.status.busy": "2021-07-27T15:29:51.345043Z",
     "iopub.status.idle": "2021-07-27T15:29:51.349211Z",
     "shell.execute_reply": "2021-07-27T15:29:51.348630Z",
     "shell.execute_reply.started": "2021-07-27T15:28:20.929454Z"
    },
    "papermill": {
     "duration": 0.057944,
     "end_time": "2021-07-27T15:29:51.349405",
     "exception": false,
     "start_time": "2021-07-27T15:29:51.291461",
     "status": "completed"
    },
    "tags": []
   },
   "outputs": [
    {
     "data": {
      "text/plain": [
       "0.4213895394223263"
      ]
     },
     "execution_count": 18,
     "metadata": {},
     "output_type": "execute_result"
    }
   ],
   "source": [
    "df['RushHour'] = ((df['Hour'] > 14) & (df['Hour'] < 23)).astype(int)\n",
    "df.RushHour.mean()"
   ]
  },
  {
   "cell_type": "code",
   "execution_count": 19,
   "metadata": {
    "execution": {
     "iopub.execute_input": "2021-07-27T15:29:51.446258Z",
     "iopub.status.busy": "2021-07-27T15:29:51.445404Z",
     "iopub.status.idle": "2021-07-27T15:29:52.043189Z",
     "shell.execute_reply": "2021-07-27T15:29:52.042467Z",
     "shell.execute_reply.started": "2021-07-27T15:28:20.940255Z"
    },
    "papermill": {
     "duration": 0.648595,
     "end_time": "2021-07-27T15:29:52.043370",
     "exception": false,
     "start_time": "2021-07-27T15:29:51.394775",
     "status": "completed"
    },
    "tags": []
   },
   "outputs": [],
   "source": [
    "colors = []\n",
    "for index, row in df.iterrows():\n",
    "    if row[\"Severity\"] == 1 :\n",
    "        colors.append(\"green\")\n",
    "    elif row[\"Severity\"] == 2 :\n",
    "        colors.append(\"blue\")\n",
    "    elif row[\"Severity\"] == 3 :\n",
    "        colors.append(\"red\")\n",
    "    else: #4\n",
    "        colors.append(\"black\")"
   ]
  },
  {
   "cell_type": "code",
   "execution_count": 20,
   "metadata": {
    "execution": {
     "iopub.execute_input": "2021-07-27T15:29:52.140735Z",
     "iopub.status.busy": "2021-07-27T15:29:52.139921Z",
     "iopub.status.idle": "2021-07-27T15:29:53.397967Z",
     "shell.execute_reply": "2021-07-27T15:29:53.398524Z",
     "shell.execute_reply.started": "2021-07-27T15:28:21.535653Z"
    },
    "papermill": {
     "duration": 1.311713,
     "end_time": "2021-07-27T15:29:53.398731",
     "exception": false,
     "start_time": "2021-07-27T15:29:52.087018",
     "status": "completed"
    },
    "tags": []
   },
   "outputs": [
    {
     "name": "stderr",
     "output_type": "stream",
     "text": [
      "/opt/conda/lib/python3.7/site-packages/ipykernel_launcher.py:7: UserWarning: Boolean Series key will be reindexed to match DataFrame index.\n",
      "  import sys\n",
      "/opt/conda/lib/python3.7/site-packages/ipykernel_launcher.py:7: UserWarning: Boolean Series key will be reindexed to match DataFrame index.\n",
      "  import sys\n",
      "/opt/conda/lib/python3.7/site-packages/ipykernel_launcher.py:7: UserWarning: Boolean Series key will be reindexed to match DataFrame index.\n",
      "  import sys\n",
      "/opt/conda/lib/python3.7/site-packages/ipykernel_launcher.py:7: UserWarning: Boolean Series key will be reindexed to match DataFrame index.\n",
      "  import sys\n"
     ]
    },
    {
     "data": {
      "image/png": "[encoded data removed]",
      "text/plain": [
       "<Figure size 432x288 with 1 Axes>"
      ]
     },
     "metadata": {
      "needs_background": "light"
     },
     "output_type": "display_data"
    },
    {
     "name": "stderr",
     "output_type": "stream",
     "text": [
      "/opt/conda/lib/python3.7/site-packages/ipykernel_launcher.py:7: UserWarning: Boolean Series key will be reindexed to match DataFrame index.\n",
      "  import sys\n",
      "/opt/conda/lib/python3.7/site-packages/ipykernel_launcher.py:7: UserWarning: Boolean Series key will be reindexed to match DataFrame index.\n",
      "  import sys\n",
      "/opt/conda/lib/python3.7/site-packages/ipykernel_launcher.py:7: UserWarning: Boolean Series key will be reindexed to match DataFrame index.\n",
      "  import sys\n",
      "/opt/conda/lib/python3.7/site-packages/ipykernel_launcher.py:7: UserWarning: Boolean Series key will be reindexed to match DataFrame index.\n",
      "  import sys\n"
     ]
    },
    {
     "data": {
      "image/png": "[encoded data removed]",
      "text/plain": [
       "<Figure size 432x288 with 1 Axes>"
      ]
     },
     "metadata": {
      "needs_background": "light"
     },
     "output_type": "display_data"
    },
    {
     "name": "stderr",
     "output_type": "stream",
     "text": [
      "/opt/conda/lib/python3.7/site-packages/ipykernel_launcher.py:7: UserWarning: Boolean Series key will be reindexed to match DataFrame index.\n",
      "  import sys\n",
      "/opt/conda/lib/python3.7/site-packages/ipykernel_launcher.py:7: UserWarning: Boolean Series key will be reindexed to match DataFrame index.\n",
      "  import sys\n",
      "/opt/conda/lib/python3.7/site-packages/ipykernel_launcher.py:7: UserWarning: Boolean Series key will be reindexed to match DataFrame index.\n",
      "  import sys\n",
      "/opt/conda/lib/python3.7/site-packages/ipykernel_launcher.py:7: UserWarning: Boolean Series key will be reindexed to match DataFrame index.\n",
      "  import sys\n"
     ]
    },
    {
     "data": {
      "image/png": "[encoded data removed]",
      "text/plain": [
       "<Figure size 432x288 with 1 Axes>"
      ]
     },
     "metadata": {
      "needs_background": "light"
     },
     "output_type": "display_data"
    },
    {
     "name": "stderr",
     "output_type": "stream",
     "text": [
      "/opt/conda/lib/python3.7/site-packages/ipykernel_launcher.py:7: UserWarning: Boolean Series key will be reindexed to match DataFrame index.\n",
      "  import sys\n",
      "/opt/conda/lib/python3.7/site-packages/ipykernel_launcher.py:7: UserWarning: Boolean Series key will be reindexed to match DataFrame index.\n",
      "  import sys\n",
      "/opt/conda/lib/python3.7/site-packages/ipykernel_launcher.py:7: UserWarning: Boolean Series key will be reindexed to match DataFrame index.\n",
      "  import sys\n",
      "/opt/conda/lib/python3.7/site-packages/ipykernel_launcher.py:7: UserWarning: Boolean Series key will be reindexed to match DataFrame index.\n",
      "  import sys\n"
     ]
    },
    {
     "data": {
      "image/png": "[encoded data removed]",
      "text/plain": [
       "<Figure size 432x288 with 1 Axes>"
      ]
     },
     "metadata": {
      "needs_background": "light"
     },
     "output_type": "display_data"
    },
    {
     "name": "stderr",
     "output_type": "stream",
     "text": [
      "/opt/conda/lib/python3.7/site-packages/ipykernel_launcher.py:7: UserWarning: Boolean Series key will be reindexed to match DataFrame index.\n",
      "  import sys\n",
      "/opt/conda/lib/python3.7/site-packages/ipykernel_launcher.py:7: UserWarning: Boolean Series key will be reindexed to match DataFrame index.\n",
      "  import sys\n",
      "/opt/conda/lib/python3.7/site-packages/ipykernel_launcher.py:7: UserWarning: Boolean Series key will be reindexed to match DataFrame index.\n",
      "  import sys\n",
      "/opt/conda/lib/python3.7/site-packages/ipykernel_launcher.py:7: UserWarning: Boolean Series key will be reindexed to match DataFrame index.\n",
      "  import sys\n"
     ]
    },
    {
     "data": {
      "image/png": "[encoded data removed]",
      "text/plain": [
       "<Figure size 432x288 with 1 Axes>"
      ]
     },
     "metadata": {
      "needs_background": "light"
     },
     "output_type": "display_data"
    },
    {
     "name": "stderr",
     "output_type": "stream",
     "text": [
      "/opt/conda/lib/python3.7/site-packages/ipykernel_launcher.py:7: UserWarning: Boolean Series key will be reindexed to match DataFrame index.\n",
      "  import sys\n",
      "/opt/conda/lib/python3.7/site-packages/ipykernel_launcher.py:7: UserWarning: Boolean Series key will be reindexed to match DataFrame index.\n",
      "  import sys\n",
      "/opt/conda/lib/python3.7/site-packages/ipykernel_launcher.py:7: UserWarning: Boolean Series key will be reindexed to match DataFrame index.\n",
      "  import sys\n",
      "/opt/conda/lib/python3.7/site-packages/ipykernel_launcher.py:7: UserWarning: Boolean Series key will be reindexed to match DataFrame index.\n",
      "  import sys\n"
     ]
    },
    {
     "data": {
      "image/png": "[encoded data removed]",
      "text/plain": [
       "<Figure size 432x288 with 1 Axes>"
      ]
     },
     "metadata": {
      "needs_background": "light"
     },
     "output_type": "display_data"
    },
    {
     "name": "stderr",
     "output_type": "stream",
     "text": [
      "/opt/conda/lib/python3.7/site-packages/ipykernel_launcher.py:7: UserWarning: Boolean Series key will be reindexed to match DataFrame index.\n",
      "  import sys\n",
      "/opt/conda/lib/python3.7/site-packages/ipykernel_launcher.py:7: UserWarning: Boolean Series key will be reindexed to match DataFrame index.\n",
      "  import sys\n",
      "/opt/conda/lib/python3.7/site-packages/ipykernel_launcher.py:7: UserWarning: Boolean Series key will be reindexed to match DataFrame index.\n",
      "  import sys\n",
      "/opt/conda/lib/python3.7/site-packages/ipykernel_launcher.py:7: UserWarning: Boolean Series key will be reindexed to match DataFrame index.\n",
      "  import sys\n"
     ]
    },
    {
     "data": {
      "image/png": "[encoded data removed]",
      "text/plain": [
       "<Figure size 432x288 with 1 Axes>"
      ]
     },
     "metadata": {
      "needs_background": "light"
     },
     "output_type": "display_data"
    }
   ],
   "source": [
    "def BooleanAttributeVisualisation(attributeName,false = False):\n",
    "    x = np.array([\"1\", \"2\", \"3\", \"4\"])\n",
    "    \n",
    "    y = np.array([len(df[df[\"Severity\"]==i]) for i in range(1,5)])\n",
    "    plt.bar(x,y)\n",
    "    \n",
    "    y = np.array([len(df[df[\"Severity\"]==i][df[attributeName]==false]) for i in range(1,5)])\n",
    "    plt.bar(x,y)\n",
    "    \n",
    "    plt.title('{}. Lower part=FALSE part'.format(attributeName))\n",
    "    plt.xlabel(\"Severity\")\n",
    "    plt.ylabel(attributeName)\n",
    "    plt.show()\n",
    "BooleanAttributeVisualisation(\"Railway\")\n",
    "BooleanAttributeVisualisation(\"Junction\")\n",
    "BooleanAttributeVisualisation(\"Crossing\")\n",
    "BooleanAttributeVisualisation(\"Railway\")\n",
    "BooleanAttributeVisualisation(\"Stop\")\n",
    "BooleanAttributeVisualisation(\"Amenity\")\n",
    "BooleanAttributeVisualisation(\"Side\",false= 'R')"
   ]
  },
  {
   "cell_type": "code",
   "execution_count": 21,
   "metadata": {
    "execution": {
     "iopub.execute_input": "2021-07-27T15:29:53.542089Z",
     "iopub.status.busy": "2021-07-27T15:29:53.517106Z",
     "iopub.status.idle": "2021-07-27T15:29:53.982011Z",
     "shell.execute_reply": "2021-07-27T15:29:53.982800Z",
     "shell.execute_reply.started": "2021-07-27T15:28:22.702788Z"
    },
    "papermill": {
     "duration": 0.533186,
     "end_time": "2021-07-27T15:29:53.983019",
     "exception": false,
     "start_time": "2021-07-27T15:29:53.449833",
     "status": "completed"
    },
    "tags": []
   },
   "outputs": [
    {
     "data": {
      "image/png": "[encoded data removed]",
      "text/plain": [
       "<Figure size 864x576 with 1 Axes>"
      ]
     },
     "metadata": {
      "needs_background": "light"
     },
     "output_type": "display_data"
    }
   ],
   "source": [
    "#PLOT Coordinates\n",
    "fig = plt.figure(figsize=(12,8))\n",
    "plt.scatter(df[['Lat']],df[['Lng']],color=colors)\n",
    "plt.title(\"Coordinates.Severity: Green=1, Blue=2, Red=3, Black=4\")\n",
    "plt.xlabel(\"Latitude\")\n",
    "plt.ylabel(\"Longitude\")\n",
    "plt.show()"
   ]
  },
  {
   "cell_type": "code",
   "execution_count": 22,
   "metadata": {
    "execution": {
     "iopub.execute_input": "2021-07-27T15:29:54.095986Z",
     "iopub.status.busy": "2021-07-27T15:29:54.095191Z",
     "iopub.status.idle": "2021-07-27T15:29:54.823416Z",
     "shell.execute_reply": "2021-07-27T15:29:54.823948Z",
     "shell.execute_reply.started": "2021-07-27T15:28:23.137407Z"
    },
    "papermill": {
     "duration": 0.788057,
     "end_time": "2021-07-27T15:29:54.824171",
     "exception": false,
     "start_time": "2021-07-27T15:29:54.036114",
     "status": "completed"
    },
    "tags": []
   },
   "outputs": [
    {
     "data": {
      "text/plain": [
       "<AxesSubplot:>"
      ]
     },
     "execution_count": 22,
     "metadata": {},
     "output_type": "execute_result"
    },
    {
     "data": {
      "image/png": "[encoded data removed]",
      "text/plain": [
       "<Figure size 720x576 with 2 Axes>"
      ]
     },
     "metadata": {
      "needs_background": "light"
     },
     "output_type": "display_data"
    }
   ],
   "source": [
    "import seaborn as sns\n",
    "fig, ax = plt.subplots(figsize=(10, 8))\n",
    "sns.heatmap(df.corr())"
   ]
  },
  {
   "cell_type": "code",
   "execution_count": 23,
   "metadata": {
    "execution": {
     "iopub.execute_input": "2021-07-27T15:29:54.940059Z",
     "iopub.status.busy": "2021-07-27T15:29:54.939233Z",
     "iopub.status.idle": "2021-07-27T15:29:54.963192Z",
     "shell.execute_reply": "2021-07-27T15:29:54.963713Z",
     "shell.execute_reply.started": "2021-07-27T15:28:23.891255Z"
    },
    "papermill": {
     "duration": 0.083203,
     "end_time": "2021-07-27T15:29:54.963925",
     "exception": false,
     "start_time": "2021-07-27T15:29:54.880722",
     "status": "completed"
    },
    "tags": []
   },
   "outputs": [
    {
     "data": {
      "text/html": [
       "<div>\n",
       "<style scoped>\n",
       "    .dataframe tbody tr th:only-of-type {\n",
       "        vertical-align: middle;\n",
       "    }\n",
       "\n",
       "    .dataframe tbody tr th {\n",
       "        vertical-align: top;\n",
       "    }\n",
       "\n",
       "    .dataframe thead th {\n",
       "        text-align: right;\n",
       "    }\n",
       "</style>\n",
       "<table border=\"1\" class=\"dataframe\">\n",
       "  <thead>\n",
       "    <tr style=\"text-align: right;\">\n",
       "      <th></th>\n",
       "      <th>Severity</th>\n",
       "    </tr>\n",
       "  </thead>\n",
       "  <tbody>\n",
       "    <tr>\n",
       "      <th>Severity</th>\n",
       "      <td>1.000000</td>\n",
       "    </tr>\n",
       "    <tr>\n",
       "      <th>Stop</th>\n",
       "      <td>0.229478</td>\n",
       "    </tr>\n",
       "    <tr>\n",
       "      <th>Year</th>\n",
       "      <td>0.171589</td>\n",
       "    </tr>\n",
       "    <tr>\n",
       "      <th>Lng</th>\n",
       "      <td>0.145689</td>\n",
       "    </tr>\n",
       "    <tr>\n",
       "      <th>Lat</th>\n",
       "      <td>0.100113</td>\n",
       "    </tr>\n",
       "    <tr>\n",
       "      <th>Weather_Condition</th>\n",
       "      <td>0.092530</td>\n",
       "    </tr>\n",
       "    <tr>\n",
       "      <th>Crossing</th>\n",
       "      <td>0.090214</td>\n",
       "    </tr>\n",
       "    <tr>\n",
       "      <th>Humidity(%)</th>\n",
       "      <td>0.079902</td>\n",
       "    </tr>\n",
       "    <tr>\n",
       "      <th>Amenity</th>\n",
       "      <td>0.078854</td>\n",
       "    </tr>\n",
       "    <tr>\n",
       "      <th>Junction</th>\n",
       "      <td>0.068614</td>\n",
       "    </tr>\n",
       "    <tr>\n",
       "      <th>Side</th>\n",
       "      <td>0.060465</td>\n",
       "    </tr>\n",
       "    <tr>\n",
       "      <th>Month</th>\n",
       "      <td>0.049630</td>\n",
       "    </tr>\n",
       "    <tr>\n",
       "      <th>Railway</th>\n",
       "      <td>0.033262</td>\n",
       "    </tr>\n",
       "    <tr>\n",
       "      <th>Wind_Speed(mph)</th>\n",
       "      <td>0.021281</td>\n",
       "    </tr>\n",
       "    <tr>\n",
       "      <th>ID</th>\n",
       "      <td>0.021105</td>\n",
       "    </tr>\n",
       "    <tr>\n",
       "      <th>Temperature(F)</th>\n",
       "      <td>0.019623</td>\n",
       "    </tr>\n",
       "    <tr>\n",
       "      <th>Hour</th>\n",
       "      <td>0.018497</td>\n",
       "    </tr>\n",
       "    <tr>\n",
       "      <th>Distance(mi)</th>\n",
       "      <td>0.013414</td>\n",
       "    </tr>\n",
       "    <tr>\n",
       "      <th>Visibility(mi)</th>\n",
       "      <td>0.006764</td>\n",
       "    </tr>\n",
       "    <tr>\n",
       "      <th>RushHour</th>\n",
       "      <td>0.003865</td>\n",
       "    </tr>\n",
       "    <tr>\n",
       "      <th>holiday</th>\n",
       "      <td>0.003201</td>\n",
       "    </tr>\n",
       "    <tr>\n",
       "      <th>Day</th>\n",
       "      <td>0.000439</td>\n",
       "    </tr>\n",
       "  </tbody>\n",
       "</table>\n",
       "</div>"
      ],
      "text/plain": [
       "                   Severity\n",
       "Severity           1.000000\n",
       "Stop               0.229478\n",
       "Year               0.171589\n",
       "Lng                0.145689\n",
       "Lat                0.100113\n",
       "Weather_Condition  0.092530\n",
       "Crossing           0.090214\n",
       "Humidity(%)        0.079902\n",
       "Amenity            0.078854\n",
       "Junction           0.068614\n",
       "Side               0.060465\n",
       "Month              0.049630\n",
       "Railway            0.033262\n",
       "Wind_Speed(mph)    0.021281\n",
       "ID                 0.021105\n",
       "Temperature(F)     0.019623\n",
       "Hour               0.018497\n",
       "Distance(mi)       0.013414\n",
       "Visibility(mi)     0.006764\n",
       "RushHour           0.003865\n",
       "holiday            0.003201\n",
       "Day                0.000439"
      ]
     },
     "execution_count": 23,
     "metadata": {},
     "output_type": "execute_result"
    }
   ],
   "source": [
    "#ordered correlated attributes with Severity\n",
    "(abs(df.corr()[['Severity']])).sort_values(by='Severity',ascending=False)"
   ]
  },
  {
   "cell_type": "code",
   "execution_count": 24,
   "metadata": {
    "execution": {
     "iopub.execute_input": "2021-07-27T15:29:55.080905Z",
     "iopub.status.busy": "2021-07-27T15:29:55.080083Z",
     "iopub.status.idle": "2021-07-27T15:29:55.102301Z",
     "shell.execute_reply": "2021-07-27T15:29:55.102866Z",
     "shell.execute_reply.started": "2021-07-27T15:28:23.917162Z"
    },
    "papermill": {
     "duration": 0.082308,
     "end_time": "2021-07-27T15:29:55.103097",
     "exception": false,
     "start_time": "2021-07-27T15:29:55.020789",
     "status": "completed"
    },
    "tags": []
   },
   "outputs": [
    {
     "name": "stdout",
     "output_type": "stream",
     "text": [
      "<class 'pandas.core.frame.DataFrame'>\n",
      "Int64Index: 6405 entries, 0 to 6406\n",
      "Data columns (total 23 columns):\n",
      " #   Column             Non-Null Count  Dtype  \n",
      "---  ------             --------------  -----  \n",
      " 0   ID                 6405 non-null   int64  \n",
      " 1   Lat                6405 non-null   float64\n",
      " 2   Lng                6405 non-null   float64\n",
      " 3   Distance(mi)       6405 non-null   float64\n",
      " 4   Crossing           6405 non-null   int64  \n",
      " 5   Junction           6405 non-null   int64  \n",
      " 6   Railway            6405 non-null   int64  \n",
      " 7   Stop               6405 non-null   bool   \n",
      " 8   Amenity            6405 non-null   int64  \n",
      " 9   Side               6405 non-null   int64  \n",
      " 10  Severity           6405 non-null   int64  \n",
      " 11  timestamp          6405 non-null   object \n",
      " 12  Year               6405 non-null   int64  \n",
      " 13  Month              6405 non-null   int64  \n",
      " 14  Day                6405 non-null   int64  \n",
      " 15  Hour               6405 non-null   int64  \n",
      " 16  holiday            6405 non-null   int64  \n",
      " 17  Weather_Condition  6405 non-null   float64\n",
      " 18  Temperature(F)     6405 non-null   float64\n",
      " 19  Humidity(%)        6405 non-null   float64\n",
      " 20  Wind_Speed(mph)    6405 non-null   float64\n",
      " 21  Visibility(mi)     6405 non-null   float64\n",
      " 22  RushHour           6405 non-null   int64  \n",
      "dtypes: bool(1), float64(8), int64(13), object(1)\n",
      "memory usage: 1.4+ MB\n"
     ]
    }
   ],
   "source": [
    "# exploring weather incidents may occur in night more than morning\n",
    "(len(df[df['Hour'] > 14])+ len(df[df['Hour'] < 18]))/ len(df)\n",
    "df.info()"
   ]
  },
  {
   "cell_type": "markdown",
   "metadata": {
    "papermill": {
     "duration": 0.058575,
     "end_time": "2021-07-27T15:29:55.219416",
     "exception": false,
     "start_time": "2021-07-27T15:29:55.160841",
     "status": "completed"
    },
    "tags": []
   },
   "source": [
    "## Data Splitting\n",
    "\n",
    "Now it's time to split the dataset for the training step. Typically the dataset is split into 3 subsets, namely, the training, validation and test sets. In our case, the test set is already predefined. So we'll split the \"training\" set into training and validation sets with 0.8:0.2 ratio. \n",
    "\n",
    "*Note: a good way to generate reproducible results is to set the seed to the algorithms that depends on randomization. This is done with the argument `random_state` in the following command* "
   ]
  },
  {
   "cell_type": "code",
   "execution_count": 25,
   "metadata": {
    "execution": {
     "iopub.execute_input": "2021-07-27T15:29:55.341660Z",
     "iopub.status.busy": "2021-07-27T15:29:55.340450Z",
     "iopub.status.idle": "2021-07-27T15:29:55.573249Z",
     "shell.execute_reply": "2021-07-27T15:29:55.573913Z",
     "shell.execute_reply.started": "2021-07-27T15:28:23.939764Z"
    },
    "papermill": {
     "duration": 0.295017,
     "end_time": "2021-07-27T15:29:55.574130",
     "exception": false,
     "start_time": "2021-07-27T15:29:55.279113",
     "status": "completed"
    },
    "tags": []
   },
   "outputs": [],
   "source": [
    "from sklearn.model_selection import train_test_split\n",
    "\n",
    "train_df, val_df = train_test_split(df, test_size=0.2, random_state=42) # Try adding `stratify` here\n",
    "\n",
    "X_train = train_df.drop(columns=['ID', 'Severity'])\n",
    "y_train = train_df['Severity']\n",
    "\n",
    "X_val = val_df.drop(columns=['ID', 'Severity'])\n",
    "y_val = val_df['Severity']"
   ]
  },
  {
   "cell_type": "markdown",
   "metadata": {
    "papermill": {
     "duration": 0.056772,
     "end_time": "2021-07-27T15:29:55.687405",
     "exception": false,
     "start_time": "2021-07-27T15:29:55.630633",
     "status": "completed"
    },
    "tags": []
   },
   "source": [
    "As pointed out eariler, I'll use the numerical features to train the classifier. **However, you shouldn't use the numerical features only to make the final submission if you want to make it to the top of the leaderboard.** "
   ]
  },
  {
   "cell_type": "code",
   "execution_count": 26,
   "metadata": {
    "execution": {
     "iopub.execute_input": "2021-07-27T15:29:55.810849Z",
     "iopub.status.busy": "2021-07-27T15:29:55.809751Z",
     "iopub.status.idle": "2021-07-27T15:29:55.813025Z",
     "shell.execute_reply": "2021-07-27T15:29:55.812352Z",
     "shell.execute_reply.started": "2021-07-27T15:28:23.956667Z"
    },
    "papermill": {
     "duration": 0.069633,
     "end_time": "2021-07-27T15:29:55.813187",
     "exception": false,
     "start_time": "2021-07-27T15:29:55.743554",
     "status": "completed"
    },
    "tags": []
   },
   "outputs": [],
   "source": [
    "# This cell is used to select the numerical features. IT SHOULD BE REMOVED AS YOU DO YOUR WORK.\n",
    "X_train = X_train[['Lat', 'Lng','Distance(mi)','Crossing','Month','Year','Day','Stop','Side','Temperature(F)', 'Humidity(%)','Wind_Speed(mph)','Weather_Condition','holiday','RushHour']]\n",
    "X_val = X_val[['Lat', 'Lng','Distance(mi)','Crossing','Month','Year','Day','Stop','Side','Temperature(F)', 'Humidity(%)','Wind_Speed(mph)','Weather_Condition','holiday','RushHour']]"
   ]
  },
  {
   "cell_type": "markdown",
   "metadata": {
    "papermill": {
     "duration": 0.055321,
     "end_time": "2021-07-27T15:29:55.926521",
     "exception": false,
     "start_time": "2021-07-27T15:29:55.871200",
     "status": "completed"
    },
    "tags": []
   },
   "source": [
    "## Model Training\n",
    "\n",
    "Let's train a model with the data! We'll train a Random Forest Classifier to demonstrate the process of making submissions. "
   ]
  },
  {
   "cell_type": "code",
   "execution_count": 27,
   "metadata": {
    "execution": {
     "iopub.execute_input": "2021-07-27T15:29:56.048311Z",
     "iopub.status.busy": "2021-07-27T15:29:56.047298Z",
     "iopub.status.idle": "2021-07-27T15:29:56.632043Z",
     "shell.execute_reply": "2021-07-27T15:29:56.631328Z",
     "shell.execute_reply.started": "2021-07-27T15:28:23.966969Z"
    },
    "papermill": {
     "duration": 0.64831,
     "end_time": "2021-07-27T15:29:56.632212",
     "exception": false,
     "start_time": "2021-07-27T15:29:55.983902",
     "status": "completed"
    },
    "tags": []
   },
   "outputs": [],
   "source": [
    "from sklearn.ensemble import RandomForestClassifier\n",
    "\n",
    "# Create an instance of the classifier\n",
    "classifier = RandomForestClassifier(max_depth=2, random_state=0)\n",
    "\n",
    "# Train the classifier/\n",
    "classifier = classifier.fit(X_train, y_train)"
   ]
  },
  {
   "cell_type": "markdown",
   "metadata": {
    "papermill": {
     "duration": 0.055656,
     "end_time": "2021-07-27T15:29:56.745109",
     "exception": false,
     "start_time": "2021-07-27T15:29:56.689453",
     "status": "completed"
    },
    "tags": []
   },
   "source": [
    "Now let's test our classifier on the validation dataset and see the accuracy."
   ]
  },
  {
   "cell_type": "code",
   "execution_count": 28,
   "metadata": {
    "execution": {
     "iopub.execute_input": "2021-07-27T15:29:56.874939Z",
     "iopub.status.busy": "2021-07-27T15:29:56.873660Z",
     "iopub.status.idle": "2021-07-27T15:29:56.912816Z",
     "shell.execute_reply": "2021-07-27T15:29:56.913947Z",
     "shell.execute_reply.started": "2021-07-27T15:28:24.295298Z"
    },
    "papermill": {
     "duration": 0.113428,
     "end_time": "2021-07-27T15:29:56.914342",
     "exception": false,
     "start_time": "2021-07-27T15:29:56.800914",
     "status": "completed"
    },
    "tags": []
   },
   "outputs": [
    {
     "name": "stdout",
     "output_type": "stream",
     "text": [
      "The accuracy of the classifier on the validation set is  0.7704918032786885\n"
     ]
    }
   ],
   "source": [
    "print(\"The accuracy of the classifier on the validation set is \", (classifier.score(X_val, y_val)))"
   ]
  },
  {
   "cell_type": "markdown",
   "metadata": {
    "papermill": {
     "duration": 0.055853,
     "end_time": "2021-07-27T15:29:57.045825",
     "exception": false,
     "start_time": "2021-07-27T15:29:56.989972",
     "status": "completed"
    },
    "tags": []
   },
   "source": [
    "Well. That's a good start, right? A classifier that predicts all examples' `Severity` as 2 will get around 0.63. You should get better score as you add more features and do better data preprocessing."
   ]
  },
  {
   "cell_type": "markdown",
   "metadata": {
    "papermill": {
     "duration": 0.05601,
     "end_time": "2021-07-27T15:29:57.158904",
     "exception": false,
     "start_time": "2021-07-27T15:29:57.102894",
     "status": "completed"
    },
    "tags": []
   },
   "source": [
    "## Submission File Generation\n",
    "\n",
    "We have built a model and we'd like to submit our predictions on the test set! In order to do that, we'll load the test set, predict the class and save the submission file. \n",
    "\n",
    "First, we'll load the data."
   ]
  },
  {
   "cell_type": "code",
   "execution_count": 29,
   "metadata": {
    "execution": {
     "iopub.execute_input": "2021-07-27T15:29:57.278172Z",
     "iopub.status.busy": "2021-07-27T15:29:57.277395Z",
     "iopub.status.idle": "2021-07-27T15:29:57.313336Z",
     "shell.execute_reply": "2021-07-27T15:29:57.312662Z",
     "shell.execute_reply.started": "2021-07-27T15:28:24.329203Z"
    },
    "papermill": {
     "duration": 0.098433,
     "end_time": "2021-07-27T15:29:57.313519",
     "exception": false,
     "start_time": "2021-07-27T15:29:57.215086",
     "status": "completed"
    },
    "tags": []
   },
   "outputs": [
    {
     "data": {
      "text/html": [
       "<div>\n",
       "<style scoped>\n",
       "    .dataframe tbody tr th:only-of-type {\n",
       "        vertical-align: middle;\n",
       "    }\n",
       "\n",
       "    .dataframe tbody tr th {\n",
       "        vertical-align: top;\n",
       "    }\n",
       "\n",
       "    .dataframe thead th {\n",
       "        text-align: right;\n",
       "    }\n",
       "</style>\n",
       "<table border=\"1\" class=\"dataframe\">\n",
       "  <thead>\n",
       "    <tr style=\"text-align: right;\">\n",
       "      <th></th>\n",
       "      <th>ID</th>\n",
       "      <th>Lat</th>\n",
       "      <th>Lng</th>\n",
       "      <th>Bump</th>\n",
       "      <th>Distance(mi)</th>\n",
       "      <th>Crossing</th>\n",
       "      <th>Give_Way</th>\n",
       "      <th>Junction</th>\n",
       "      <th>No_Exit</th>\n",
       "      <th>Railway</th>\n",
       "      <th>Roundabout</th>\n",
       "      <th>Stop</th>\n",
       "      <th>Amenity</th>\n",
       "      <th>Side</th>\n",
       "      <th>timestamp</th>\n",
       "    </tr>\n",
       "  </thead>\n",
       "  <tbody>\n",
       "    <tr>\n",
       "      <th>0</th>\n",
       "      <td>6407</td>\n",
       "      <td>37.786060</td>\n",
       "      <td>-122.390900</td>\n",
       "      <td>False</td>\n",
       "      <td>0.039</td>\n",
       "      <td>False</td>\n",
       "      <td>False</td>\n",
       "      <td>True</td>\n",
       "      <td>False</td>\n",
       "      <td>False</td>\n",
       "      <td>False</td>\n",
       "      <td>False</td>\n",
       "      <td>False</td>\n",
       "      <td>R</td>\n",
       "      <td>2016-04-04 19:20:31</td>\n",
       "    </tr>\n",
       "    <tr>\n",
       "      <th>1</th>\n",
       "      <td>6408</td>\n",
       "      <td>37.769609</td>\n",
       "      <td>-122.415057</td>\n",
       "      <td>False</td>\n",
       "      <td>0.202</td>\n",
       "      <td>False</td>\n",
       "      <td>False</td>\n",
       "      <td>False</td>\n",
       "      <td>False</td>\n",
       "      <td>False</td>\n",
       "      <td>False</td>\n",
       "      <td>False</td>\n",
       "      <td>False</td>\n",
       "      <td>R</td>\n",
       "      <td>2020-10-28 11:51:00</td>\n",
       "    </tr>\n",
       "    <tr>\n",
       "      <th>2</th>\n",
       "      <td>6409</td>\n",
       "      <td>37.807495</td>\n",
       "      <td>-122.476021</td>\n",
       "      <td>False</td>\n",
       "      <td>0.000</td>\n",
       "      <td>False</td>\n",
       "      <td>False</td>\n",
       "      <td>False</td>\n",
       "      <td>False</td>\n",
       "      <td>False</td>\n",
       "      <td>False</td>\n",
       "      <td>False</td>\n",
       "      <td>False</td>\n",
       "      <td>R</td>\n",
       "      <td>2019-09-09 07:36:45</td>\n",
       "    </tr>\n",
       "    <tr>\n",
       "      <th>3</th>\n",
       "      <td>6410</td>\n",
       "      <td>37.761818</td>\n",
       "      <td>-122.405869</td>\n",
       "      <td>False</td>\n",
       "      <td>0.000</td>\n",
       "      <td>False</td>\n",
       "      <td>False</td>\n",
       "      <td>True</td>\n",
       "      <td>False</td>\n",
       "      <td>False</td>\n",
       "      <td>False</td>\n",
       "      <td>False</td>\n",
       "      <td>False</td>\n",
       "      <td>R</td>\n",
       "      <td>2019-08-06 15:46:25</td>\n",
       "    </tr>\n",
       "    <tr>\n",
       "      <th>4</th>\n",
       "      <td>6411</td>\n",
       "      <td>37.732350</td>\n",
       "      <td>-122.414100</td>\n",
       "      <td>False</td>\n",
       "      <td>0.670</td>\n",
       "      <td>False</td>\n",
       "      <td>False</td>\n",
       "      <td>False</td>\n",
       "      <td>False</td>\n",
       "      <td>False</td>\n",
       "      <td>False</td>\n",
       "      <td>False</td>\n",
       "      <td>False</td>\n",
       "      <td>R</td>\n",
       "      <td>2018-10-17 09:54:58</td>\n",
       "    </tr>\n",
       "  </tbody>\n",
       "</table>\n",
       "</div>"
      ],
      "text/plain": [
       "     ID        Lat         Lng   Bump  Distance(mi)  Crossing  Give_Way  \\\n",
       "0  6407  37.786060 -122.390900  False         0.039     False     False   \n",
       "1  6408  37.769609 -122.415057  False         0.202     False     False   \n",
       "2  6409  37.807495 -122.476021  False         0.000     False     False   \n",
       "3  6410  37.761818 -122.405869  False         0.000     False     False   \n",
       "4  6411  37.732350 -122.414100  False         0.670     False     False   \n",
       "\n",
       "   Junction  No_Exit  Railway  Roundabout   Stop  Amenity Side  \\\n",
       "0      True    False    False       False  False    False    R   \n",
       "1     False    False    False       False  False    False    R   \n",
       "2     False    False    False       False  False    False    R   \n",
       "3      True    False    False       False  False    False    R   \n",
       "4     False    False    False       False  False    False    R   \n",
       "\n",
       "             timestamp  \n",
       "0  2016-04-04 19:20:31  \n",
       "1  2020-10-28 11:51:00  \n",
       "2  2019-09-09 07:36:45  \n",
       "3  2019-08-06 15:46:25  \n",
       "4  2018-10-17 09:54:58  "
      ]
     },
     "execution_count": 29,
     "metadata": {},
     "output_type": "execute_result"
    }
   ],
   "source": [
    "test_df = pd.read_csv(os.path.join(dataset_path, 'test.csv'))\n",
    "test_df.head()"
   ]
  },
  {
   "cell_type": "markdown",
   "metadata": {
    "papermill": {
     "duration": 0.056543,
     "end_time": "2021-07-27T15:29:57.427149",
     "exception": false,
     "start_time": "2021-07-27T15:29:57.370606",
     "status": "completed"
    },
    "tags": []
   },
   "source": [
    "Note that the test set has the same features and doesn't have the `Severity` column.\n",
    "At this stage one must **NOT** forget to apply the same processing done on the training set on the features of the test set.\n",
    "\n",
    "Now we'll add `Severity` column to the test `DataFrame` and add the values of the predicted class to it.\n",
    "\n",
    "**I'll select the numerical features here as I did in the training set. DO NOT forget to change this step as you change the preprocessing of the training data.**"
   ]
  },
  {
   "cell_type": "code",
   "execution_count": 30,
   "metadata": {
    "execution": {
     "iopub.execute_input": "2021-07-27T15:29:57.556646Z",
     "iopub.status.busy": "2021-07-27T15:29:57.555565Z",
     "iopub.status.idle": "2021-07-27T15:29:57.601066Z",
     "shell.execute_reply": "2021-07-27T15:29:57.601623Z",
     "shell.execute_reply.started": "2021-07-27T15:28:24.363211Z"
    },
    "papermill": {
     "duration": 0.117959,
     "end_time": "2021-07-27T15:29:57.601870",
     "exception": false,
     "start_time": "2021-07-27T15:29:57.483911",
     "status": "completed"
    },
    "tags": []
   },
   "outputs": [
    {
     "name": "stdout",
     "output_type": "stream",
     "text": [
      "ID                   0\n",
      "Lat                  0\n",
      "Lng                  0\n",
      "Bump                 0\n",
      "Distance(mi)         0\n",
      "Crossing             0\n",
      "Give_Way             0\n",
      "Junction             0\n",
      "No_Exit              0\n",
      "Railway              0\n",
      "Roundabout           0\n",
      "Stop                 0\n",
      "Amenity              0\n",
      "Side                 0\n",
      "timestamp            0\n",
      "Year                 0\n",
      "Month                0\n",
      "Day                  0\n",
      "Hour                 0\n",
      "holiday              0\n",
      "Weather_Condition    0\n",
      "Temperature(F)       0\n",
      "Humidity(%)          0\n",
      "Wind_Speed(mph)      0\n",
      "Visibility(mi)       0\n",
      "Selected             0\n",
      "dtype: int64\n"
     ]
    }
   ],
   "source": [
    "# applying the preprossing like the data\n",
    "test_df.timestamp = pd.to_datetime(test_df.timestamp, utc = True)\n",
    "\n",
    "test_df['Year'] = test_df.timestamp.dt.year\n",
    "test_df['Month'] = test_df.timestamp.dt.month\n",
    "test_df['Day'] = test_df.timestamp.dt.day\n",
    "test_df['Hour'] = test_df.timestamp.dt.hour\n",
    "\n",
    "test_df.timestamp = test_df.timestamp.dt.date\n",
    "columns = ['Crossing' , 'Junction' , 'Railway' , 'Roundabout' , 'Amenity']\n",
    "test_df[columns] = test_df[columns].astype(int)\n",
    "\n",
    "test_df['Side'] = test_df['Side'].replace(['R','L'],[0,1])\n",
    "\n",
    "\n",
    "holidayMergedTestDF = pd.merge(test_df,holidayDF,how = 'left' ,on = ['timestamp'])\n",
    "\n",
    "test_df = pd.merge(holidayMergedTestDF,uniqueWeatherDF,how = 'left' ,on = ['Hour' ,'Year', 'Day' ,'Month'])\n",
    "\n",
    "test_df['holiday'] = test_df['holiday'] * 0\n",
    "test_df['holiday'] = test_df['holiday'].replace([np.NaN,''],[0,1])\n",
    "print(test_df.isnull().sum())\n",
    "test_df['RushHour'] = ((test_df['Hour'] > 14) & (test_df['Hour'] < 23)).astype(int)"
   ]
  },
  {
   "cell_type": "code",
   "execution_count": 31,
   "metadata": {
    "execution": {
     "iopub.execute_input": "2021-07-27T15:29:57.726989Z",
     "iopub.status.busy": "2021-07-27T15:29:57.725751Z",
     "iopub.status.idle": "2021-07-27T15:29:57.790317Z",
     "shell.execute_reply": "2021-07-27T15:29:57.789732Z",
     "shell.execute_reply.started": "2021-07-27T15:28:24.414332Z"
    },
    "papermill": {
     "duration": 0.130923,
     "end_time": "2021-07-27T15:29:57.790507",
     "exception": false,
     "start_time": "2021-07-27T15:29:57.659584",
     "status": "completed"
    },
    "tags": []
   },
   "outputs": [
    {
     "data": {
      "text/html": [
       "<div>\n",
       "<style scoped>\n",
       "    .dataframe tbody tr th:only-of-type {\n",
       "        vertical-align: middle;\n",
       "    }\n",
       "\n",
       "    .dataframe tbody tr th {\n",
       "        vertical-align: top;\n",
       "    }\n",
       "\n",
       "    .dataframe thead th {\n",
       "        text-align: right;\n",
       "    }\n",
       "</style>\n",
       "<table border=\"1\" class=\"dataframe\">\n",
       "  <thead>\n",
       "    <tr style=\"text-align: right;\">\n",
       "      <th></th>\n",
       "      <th>ID</th>\n",
       "      <th>Lat</th>\n",
       "      <th>Lng</th>\n",
       "      <th>Bump</th>\n",
       "      <th>Distance(mi)</th>\n",
       "      <th>Crossing</th>\n",
       "      <th>Give_Way</th>\n",
       "      <th>Junction</th>\n",
       "      <th>No_Exit</th>\n",
       "      <th>Railway</th>\n",
       "      <th>...</th>\n",
       "      <th>Hour</th>\n",
       "      <th>holiday</th>\n",
       "      <th>Weather_Condition</th>\n",
       "      <th>Temperature(F)</th>\n",
       "      <th>Humidity(%)</th>\n",
       "      <th>Wind_Speed(mph)</th>\n",
       "      <th>Visibility(mi)</th>\n",
       "      <th>Selected</th>\n",
       "      <th>RushHour</th>\n",
       "      <th>Severity</th>\n",
       "    </tr>\n",
       "  </thead>\n",
       "  <tbody>\n",
       "    <tr>\n",
       "      <th>0</th>\n",
       "      <td>6407</td>\n",
       "      <td>37.786060</td>\n",
       "      <td>-122.390900</td>\n",
       "      <td>False</td>\n",
       "      <td>0.039</td>\n",
       "      <td>0</td>\n",
       "      <td>False</td>\n",
       "      <td>1</td>\n",
       "      <td>False</td>\n",
       "      <td>0</td>\n",
       "      <td>...</td>\n",
       "      <td>19</td>\n",
       "      <td>0</td>\n",
       "      <td>17</td>\n",
       "      <td>63.0</td>\n",
       "      <td>60.0</td>\n",
       "      <td>10.4</td>\n",
       "      <td>10.0</td>\n",
       "      <td>No</td>\n",
       "      <td>1</td>\n",
       "      <td>2</td>\n",
       "    </tr>\n",
       "    <tr>\n",
       "      <th>1</th>\n",
       "      <td>6408</td>\n",
       "      <td>37.769609</td>\n",
       "      <td>-122.415057</td>\n",
       "      <td>False</td>\n",
       "      <td>0.202</td>\n",
       "      <td>0</td>\n",
       "      <td>False</td>\n",
       "      <td>0</td>\n",
       "      <td>False</td>\n",
       "      <td>0</td>\n",
       "      <td>...</td>\n",
       "      <td>11</td>\n",
       "      <td>0</td>\n",
       "      <td>3</td>\n",
       "      <td>65.0</td>\n",
       "      <td>56.0</td>\n",
       "      <td>5.0</td>\n",
       "      <td>9.0</td>\n",
       "      <td>No</td>\n",
       "      <td>0</td>\n",
       "      <td>2</td>\n",
       "    </tr>\n",
       "    <tr>\n",
       "      <th>2</th>\n",
       "      <td>6409</td>\n",
       "      <td>37.807495</td>\n",
       "      <td>-122.476021</td>\n",
       "      <td>False</td>\n",
       "      <td>0.000</td>\n",
       "      <td>0</td>\n",
       "      <td>False</td>\n",
       "      <td>0</td>\n",
       "      <td>False</td>\n",
       "      <td>0</td>\n",
       "      <td>...</td>\n",
       "      <td>7</td>\n",
       "      <td>0</td>\n",
       "      <td>14</td>\n",
       "      <td>59.0</td>\n",
       "      <td>87.0</td>\n",
       "      <td>14.0</td>\n",
       "      <td>10.0</td>\n",
       "      <td>No</td>\n",
       "      <td>0</td>\n",
       "      <td>2</td>\n",
       "    </tr>\n",
       "    <tr>\n",
       "      <th>3</th>\n",
       "      <td>6410</td>\n",
       "      <td>37.761818</td>\n",
       "      <td>-122.405869</td>\n",
       "      <td>False</td>\n",
       "      <td>0.000</td>\n",
       "      <td>0</td>\n",
       "      <td>False</td>\n",
       "      <td>1</td>\n",
       "      <td>False</td>\n",
       "      <td>0</td>\n",
       "      <td>...</td>\n",
       "      <td>15</td>\n",
       "      <td>0</td>\n",
       "      <td>3</td>\n",
       "      <td>72.0</td>\n",
       "      <td>59.0</td>\n",
       "      <td>17.0</td>\n",
       "      <td>10.0</td>\n",
       "      <td>No</td>\n",
       "      <td>1</td>\n",
       "      <td>2</td>\n",
       "    </tr>\n",
       "    <tr>\n",
       "      <th>4</th>\n",
       "      <td>6411</td>\n",
       "      <td>37.732350</td>\n",
       "      <td>-122.414100</td>\n",
       "      <td>False</td>\n",
       "      <td>0.670</td>\n",
       "      <td>0</td>\n",
       "      <td>False</td>\n",
       "      <td>0</td>\n",
       "      <td>False</td>\n",
       "      <td>0</td>\n",
       "      <td>...</td>\n",
       "      <td>9</td>\n",
       "      <td>0</td>\n",
       "      <td>22</td>\n",
       "      <td>57.0</td>\n",
       "      <td>77.0</td>\n",
       "      <td>5.8</td>\n",
       "      <td>10.0</td>\n",
       "      <td>No</td>\n",
       "      <td>0</td>\n",
       "      <td>2</td>\n",
       "    </tr>\n",
       "  </tbody>\n",
       "</table>\n",
       "<p>5 rows × 28 columns</p>\n",
       "</div>"
      ],
      "text/plain": [
       "     ID        Lat         Lng   Bump  Distance(mi)  Crossing  Give_Way  \\\n",
       "0  6407  37.786060 -122.390900  False         0.039         0     False   \n",
       "1  6408  37.769609 -122.415057  False         0.202         0     False   \n",
       "2  6409  37.807495 -122.476021  False         0.000         0     False   \n",
       "3  6410  37.761818 -122.405869  False         0.000         0     False   \n",
       "4  6411  37.732350 -122.414100  False         0.670         0     False   \n",
       "\n",
       "   Junction  No_Exit  Railway  ...  Hour  holiday  Weather_Condition  \\\n",
       "0         1    False        0  ...    19        0                 17   \n",
       "1         0    False        0  ...    11        0                  3   \n",
       "2         0    False        0  ...     7        0                 14   \n",
       "3         1    False        0  ...    15        0                  3   \n",
       "4         0    False        0  ...     9        0                 22   \n",
       "\n",
       "   Temperature(F) Humidity(%)  Wind_Speed(mph)  Visibility(mi)  Selected  \\\n",
       "0            63.0        60.0             10.4            10.0        No   \n",
       "1            65.0        56.0              5.0             9.0        No   \n",
       "2            59.0        87.0             14.0            10.0        No   \n",
       "3            72.0        59.0             17.0            10.0        No   \n",
       "4            57.0        77.0              5.8            10.0        No   \n",
       "\n",
       "   RushHour  Severity  \n",
       "0         1         2  \n",
       "1         0         2  \n",
       "2         0         2  \n",
       "3         1         2  \n",
       "4         0         2  \n",
       "\n",
       "[5 rows x 28 columns]"
      ]
     },
     "execution_count": 31,
     "metadata": {},
     "output_type": "execute_result"
    }
   ],
   "source": [
    "X_test = test_df.drop(columns=['ID'])\n",
    "X_test = X_test[['Lat', 'Lng','Distance(mi)','Crossing','Month','Year','Day','Stop','Side','Temperature(F)', 'Humidity(%)','Wind_Speed(mph)','Weather_Condition','holiday','RushHour']]\n",
    "y_test_predicted = classifier.predict(X_test)\n",
    "\n",
    "test_df['Severity'] = y_test_predicted\n",
    "\n",
    "test_df.head()"
   ]
  },
  {
   "cell_type": "markdown",
   "metadata": {
    "papermill": {
     "duration": 0.058962,
     "end_time": "2021-07-27T15:29:57.907985",
     "exception": false,
     "start_time": "2021-07-27T15:29:57.849023",
     "status": "completed"
    },
    "tags": []
   },
   "source": [
    "Now we're ready to generate the submission file. The submission file needs the columns `ID` and `Severity` only."
   ]
  },
  {
   "cell_type": "code",
   "execution_count": 32,
   "metadata": {
    "execution": {
     "iopub.execute_input": "2021-07-27T15:29:58.044239Z",
     "iopub.status.busy": "2021-07-27T15:29:58.042737Z",
     "iopub.status.idle": "2021-07-27T15:29:58.056006Z",
     "shell.execute_reply": "2021-07-27T15:29:58.055281Z",
     "shell.execute_reply.started": "2021-07-27T15:28:24.478111Z"
    },
    "papermill": {
     "duration": 0.084744,
     "end_time": "2021-07-27T15:29:58.056173",
     "exception": false,
     "start_time": "2021-07-27T15:29:57.971429",
     "status": "completed"
    },
    "tags": []
   },
   "outputs": [],
   "source": [
    "test_df[['ID', 'Severity']].to_csv('/kaggle/working/submission.csv', index=False)"
   ]
  },
  {
   "cell_type": "markdown",
   "metadata": {
    "papermill": {
     "duration": 0.058407,
     "end_time": "2021-07-27T15:29:58.176936",
     "exception": false,
     "start_time": "2021-07-27T15:29:58.118529",
     "status": "completed"
    },
    "tags": []
   },
   "source": [
    "The remaining steps is to submit the generated file and are as follows. \n",
    "\n",
    "1. Press `Save Version` on the upper right corner of this notebook.\n",
    "2. Write a `Version Name` of your choice and choose `Save & Run All (Commit)` then click `Save`.\n",
    "3. Wait for the saved notebook to finish running the go to the saved notebook.\n",
    "4. Scroll down until you see the output files then select the `submission.csv` file and click `Submit`.\n",
    "\n",
    "Now your submission will be evaluated and your score will be updated on the leaderboard! CONGRATULATIONS!!"
   ]
  },
  {
   "cell_type": "markdown",
   "metadata": {
    "papermill": {
     "duration": 0.057988,
     "end_time": "2021-07-27T15:29:58.293106",
     "exception": false,
     "start_time": "2021-07-27T15:29:58.235118",
     "status": "completed"
    },
    "tags": []
   },
   "source": [
    "## Conclusion\n",
    "\n",
    "In this notebook, we have demonstrated the essential steps that one should do in order to get \"slightly\" familiar with the data and the submission process. We chose not to go into details in each step to keep the welcoming notebook simple and make a room for improvement.\n",
    "\n",
    "You're encourged to `Fork` the notebook, edit it, add your insights and use it to create your submission."
   ]
  },
  {
   "cell_type": "code",
   "execution_count": null,
   "metadata": {
    "papermill": {
     "duration": 0.058575,
     "end_time": "2021-07-27T15:29:58.410134",
     "exception": false,
     "start_time": "2021-07-27T15:29:58.351559",
     "status": "completed"
    },
    "tags": []
   },
   "outputs": [],
   "source": []
  }
 ],
 "metadata": {
  "hide_input": false,
  "kernelspec": {
   "display_name": "Python 3",
   "language": "python",
   "name": "python3"
  },
  "language_info": {
   "codemirror_mode": {
    "name": "ipython",
    "version": 3
   },
   "file_extension": ".py",
   "mimetype": "text/x-python",
   "name": "python",
   "nbconvert_exporter": "python",
   "pygments_lexer": "ipython3",
   "version": "3.8.5"
  },
  "papermill": {
   "default_parameters": {},
   "duration": 21.949875,
   "end_time": "2021-07-27T15:29:59.584277",
   "environment_variables": {},
   "exception": null,
   "input_path": "__notebook__.ipynb",
   "output_path": "__notebook__.ipynb",
   "parameters": {},
   "start_time": "2021-07-27T15:29:37.634402",
   "version": "2.3.3"
  }
 },
 "nbformat": 4,
 "nbformat_minor": 5
}
